{
 "cells": [
  {
   "cell_type": "code",
   "execution_count": 2,
   "metadata": {
    "collapsed": false,
    "deletable": true,
    "editable": true
   },
   "outputs": [],
   "source": [
    "# Import packages\n",
    "from __future__ import division, print_function # Imports from __future__ since we're running Python 2\n",
    "import os\n",
    "import numpy as np \n",
    "import pandas as pd\n",
    "from sklearn.model_selection import train_test_split\n",
    "from sklearn import preprocessing\n",
    "from sklearn.feature_selection import VarianceThreshold\n",
    "\n",
    "%matplotlib inline"
   ]
  },
  {
   "cell_type": "code",
   "execution_count": 4,
   "metadata": {
    "collapsed": false,
    "deletable": true,
    "editable": true
   },
   "outputs": [],
   "source": [
    "# read train data set \n",
    "f = os.path.join(os.getcwd(), 'train_2008.csv')\n",
    "data = pd.read_csv(f)\n",
    "# numericalColumns = ['HRNUMHOU', 'HRMIS', 'HUPRSCNT', 'PEAGE', 'PRINUSYR', 'PEHRUSL1', 'PEHRUSL2', 'PUHROFF2', 'PUHROT2', 'PEHRACT2', 'PELAYDUR', 'PELKDUR', 'PRUNEDUR', 'PEERNHRO', 'PUERN2', 'PEERNWKP', 'PRNMCHLD', 'PEAFWHN1', 'PEAFWHN2', 'PEAFWHN3', 'PEAFWHN4']\n",
    "dropColumns = ['PES1','id']\n",
    "y = data['PES1']\n",
    "X = data.drop(dropColumns, 1)\n",
    "sel = VarianceThreshold()\n",
    "X = sel.fit_transform(X)"
   ]
  },
  {
   "cell_type": "code",
   "execution_count": 129,
   "metadata": {
    "collapsed": false,
    "deletable": true,
    "editable": true
   },
   "outputs": [
    {
     "name": "stdout",
     "output_type": "stream",
     "text": [
      "(16000, 366)\n"
     ]
    }
   ],
   "source": [
    "ftest = os.path.join(os.getcwd(), 'test_2008.csv')\n",
    "X_test_final = pd.read_csv(ftest)\n",
    "X_test_input = sel.transform(X_test_final.drop(['id'], 1))"
   ]
  },
  {
   "cell_type": "code",
   "execution_count": 6,
   "metadata": {
    "collapsed": false,
    "deletable": true,
    "editable": true
   },
   "outputs": [
    {
     "data": {
      "text/plain": [
       "(82820, 366)"
      ]
     },
     "execution_count": 6,
     "metadata": {},
     "output_type": "execute_result"
    }
   ],
   "source": [
    "ftest = os.path.join(os.getcwd(), 'test_2012.csv')\n",
    "X_test2_final = pd.read_csv(ftest)\n",
    "X_test_input2 = sel.transform(X_test2_final.drop(['id'], 1))\n",
    "X_test_input2.shape"
   ]
  },
  {
   "cell_type": "code",
   "execution_count": null,
   "metadata": {
    "collapsed": true
   },
   "outputs": [],
   "source": []
  }
 ],
 "metadata": {
  "kernelspec": {
   "display_name": "Python 2",
   "language": "python",
   "name": "python2"
  },
  "language_info": {
   "codemirror_mode": {
    "name": "ipython",
    "version": 2
   },
   "file_extension": ".py",
   "mimetype": "text/x-python",
   "name": "python",
   "nbconvert_exporter": "python",
   "pygments_lexer": "ipython2",
   "version": "2.7.13"
  }
 },
 "nbformat": 4,
 "nbformat_minor": 2
}
