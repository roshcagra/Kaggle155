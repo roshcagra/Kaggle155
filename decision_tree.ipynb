{
 "cells": [
  {
   "cell_type": "code",
   "execution_count": 142,
   "metadata": {
    "collapsed": false,
    "deletable": true,
    "editable": true
   },
   "outputs": [
    {
     "name": "stdout",
     "output_type": "stream",
     "text": [
      "(64667, 381)\n",
      "(64667, 366)\n",
      "(16000, 366)\n"
     ]
    }
   ],
   "source": [
    "%run 'preprocess.ipynb'"
   ]
  },
  {
   "cell_type": "code",
   "execution_count": 99,
   "metadata": {
    "collapsed": false,
    "deletable": true,
    "editable": true
   },
   "outputs": [],
   "source": [
    "from sklearn.ensemble import RandomForestClassifier\n",
    "from sklearn.ensemble import GradientBoostingClassifier\n",
    "from sklearn.ensemble import AdaBoostClassifier\n",
    "from sklearn.externals import joblib\n",
    "\n",
    "from sklearn.model_selection import RandomizedSearchCV\n",
    "from sklearn.ensemble import VotingClassifier\n",
    "from scipy.stats import randint as sp_randint"
   ]
  },
  {
   "cell_type": "code",
   "execution_count": 122,
   "metadata": {
    "collapsed": false,
    "deletable": true,
    "editable": true,
    "scrolled": true
   },
   "outputs": [],
   "source": [
    "forest = RandomForestClassifier(n_jobs=-1)\n",
    "grad = GradientBoostingClassifier(n_estimators=50)"
   ]
  },
  {
   "cell_type": "code",
   "execution_count": 105,
   "metadata": {
    "collapsed": false
   },
   "outputs": [
    {
     "name": "stdout",
     "output_type": "stream",
     "text": [
      "Fitting 4 folds for each of 50 candidates, totalling 200 fits\n",
      "[CV] grad__max_features=48, forest__max_features=158, forest__criterion=entropy, forest__max_depth=24, grad__max_depth=4, grad__min_samples_split=210, forest__min_samples_split=239 \n",
      "[CV] grad__max_features=48, forest__max_features=158, forest__criterion=entropy, forest__max_depth=24, grad__max_depth=4, grad__min_samples_split=210, forest__min_samples_split=239 \n",
      "[CV] grad__max_features=48, forest__max_features=158, forest__criterion=entropy, forest__max_depth=24, grad__max_depth=4, grad__min_samples_split=210, forest__min_samples_split=239 \n",
      "[CV] grad__max_features=48, forest__max_features=158, forest__criterion=entropy, forest__max_depth=24, grad__max_depth=4, grad__min_samples_split=210, forest__min_samples_split=239 \n",
      "[CV] grad__max_features=306, forest__max_features=65, forest__criterion=entropy, forest__max_depth=365, grad__max_depth=7, grad__min_samples_split=306, forest__min_samples_split=309 \n",
      "[CV] grad__max_features=306, forest__max_features=65, forest__criterion=entropy, forest__max_depth=365, grad__max_depth=7, grad__min_samples_split=306, forest__min_samples_split=309 \n",
      "[CV] grad__max_features=306, forest__max_features=65, forest__criterion=entropy, forest__max_depth=365, grad__max_depth=7, grad__min_samples_split=306, forest__min_samples_split=309 \n",
      "[CV] grad__max_features=306, forest__max_features=65, forest__criterion=entropy, forest__max_depth=365, grad__max_depth=7, grad__min_samples_split=306, forest__min_samples_split=309 \n",
      "[CV]  grad__max_features=48, forest__max_features=158, forest__criterion=entropy, forest__max_depth=24, grad__max_depth=4, grad__min_samples_split=210, forest__min_samples_split=239, total= 1.1min\n",
      "[CV] grad__max_features=108, forest__max_features=256, forest__criterion=entropy, forest__max_depth=289, grad__max_depth=5, grad__min_samples_split=229, forest__min_samples_split=53 \n",
      "[CV]  grad__max_features=48, forest__max_features=158, forest__criterion=entropy, forest__max_depth=24, grad__max_depth=4, grad__min_samples_split=210, forest__min_samples_split=239, total= 1.1min\n",
      "[CV] grad__max_features=108, forest__max_features=256, forest__criterion=entropy, forest__max_depth=289, grad__max_depth=5, grad__min_samples_split=229, forest__min_samples_split=53 \n",
      "[CV]  grad__max_features=48, forest__max_features=158, forest__criterion=entropy, forest__max_depth=24, grad__max_depth=4, grad__min_samples_split=210, forest__min_samples_split=239, total= 1.2min\n",
      "[CV] grad__max_features=108, forest__max_features=256, forest__criterion=entropy, forest__max_depth=289, grad__max_depth=5, grad__min_samples_split=229, forest__min_samples_split=53 \n",
      "[CV]  grad__max_features=48, forest__max_features=158, forest__criterion=entropy, forest__max_depth=24, grad__max_depth=4, grad__min_samples_split=210, forest__min_samples_split=239, total= 1.2min\n",
      "[CV] grad__max_features=108, forest__max_features=256, forest__criterion=entropy, forest__max_depth=289, grad__max_depth=5, grad__min_samples_split=229, forest__min_samples_split=53 \n",
      "[CV]  grad__max_features=108, forest__max_features=256, forest__criterion=entropy, forest__max_depth=289, grad__max_depth=5, grad__min_samples_split=229, forest__min_samples_split=53, total= 2.6min\n",
      "[CV] grad__max_features=356, forest__max_features=55, forest__criterion=gini, forest__max_depth=263, grad__max_depth=9, grad__min_samples_split=384, forest__min_samples_split=474 \n",
      "[CV]  grad__max_features=108, forest__max_features=256, forest__criterion=entropy, forest__max_depth=289, grad__max_depth=5, grad__min_samples_split=229, forest__min_samples_split=53, total= 2.6min\n",
      "[CV]  grad__max_features=108, forest__max_features=256, forest__criterion=entropy, forest__max_depth=289, grad__max_depth=5, grad__min_samples_split=229, forest__min_samples_split=53, total= 2.6min\n",
      "[CV] grad__max_features=356, forest__max_features=55, forest__criterion=gini, forest__max_depth=263, grad__max_depth=9, grad__min_samples_split=384, forest__min_samples_split=474 \n",
      "[CV] grad__max_features=356, forest__max_features=55, forest__criterion=gini, forest__max_depth=263, grad__max_depth=9, grad__min_samples_split=384, forest__min_samples_split=474 \n",
      "[CV]  grad__max_features=108, forest__max_features=256, forest__criterion=entropy, forest__max_depth=289, grad__max_depth=5, grad__min_samples_split=229, forest__min_samples_split=53, total= 2.7min\n",
      "[CV] grad__max_features=356, forest__max_features=55, forest__criterion=gini, forest__max_depth=263, grad__max_depth=9, grad__min_samples_split=384, forest__min_samples_split=474 \n",
      "[CV]  grad__max_features=306, forest__max_features=65, forest__criterion=entropy, forest__max_depth=365, grad__max_depth=7, grad__min_samples_split=306, forest__min_samples_split=309, total= 8.1min\n",
      "[CV] grad__max_features=344, forest__max_features=50, forest__criterion=entropy, forest__max_depth=179, grad__max_depth=8, grad__min_samples_split=443, forest__min_samples_split=495 \n",
      "[CV]  grad__max_features=306, forest__max_features=65, forest__criterion=entropy, forest__max_depth=365, grad__max_depth=7, grad__min_samples_split=306, forest__min_samples_split=309, total= 8.2min\n",
      "[CV] grad__max_features=344, forest__max_features=50, forest__criterion=entropy, forest__max_depth=179, grad__max_depth=8, grad__min_samples_split=443, forest__min_samples_split=495 \n",
      "[CV]  grad__max_features=306, forest__max_features=65, forest__criterion=entropy, forest__max_depth=365, grad__max_depth=7, grad__min_samples_split=306, forest__min_samples_split=309, total= 8.2min\n",
      "[CV] grad__max_features=344, forest__max_features=50, forest__criterion=entropy, forest__max_depth=179, grad__max_depth=8, grad__min_samples_split=443, forest__min_samples_split=495 \n",
      "[CV]  grad__max_features=306, forest__max_features=65, forest__criterion=entropy, forest__max_depth=365, grad__max_depth=7, grad__min_samples_split=306, forest__min_samples_split=309, total= 8.2min\n",
      "[CV] grad__max_features=344, forest__max_features=50, forest__criterion=entropy, forest__max_depth=179, grad__max_depth=8, grad__min_samples_split=443, forest__min_samples_split=495 \n",
      "[CV]  grad__max_features=356, forest__max_features=55, forest__criterion=gini, forest__max_depth=263, grad__max_depth=9, grad__min_samples_split=384, forest__min_samples_split=474, total=12.7min\n",
      "[CV] grad__max_features=91, forest__max_features=166, forest__criterion=gini, forest__max_depth=296, grad__max_depth=5, grad__min_samples_split=31, forest__min_samples_split=41 \n",
      "[CV]  grad__max_features=356, forest__max_features=55, forest__criterion=gini, forest__max_depth=263, grad__max_depth=9, grad__min_samples_split=384, forest__min_samples_split=474, total=12.9min\n",
      "[CV] grad__max_features=91, forest__max_features=166, forest__criterion=gini, forest__max_depth=296, grad__max_depth=5, grad__min_samples_split=31, forest__min_samples_split=41 \n",
      "[CV]  grad__max_features=356, forest__max_features=55, forest__criterion=gini, forest__max_depth=263, grad__max_depth=9, grad__min_samples_split=384, forest__min_samples_split=474, total=13.0min\n",
      "[CV] grad__max_features=91, forest__max_features=166, forest__criterion=gini, forest__max_depth=296, grad__max_depth=5, grad__min_samples_split=31, forest__min_samples_split=41 \n",
      "[CV]  grad__max_features=356, forest__max_features=55, forest__criterion=gini, forest__max_depth=263, grad__max_depth=9, grad__min_samples_split=384, forest__min_samples_split=474, total=13.0min\n",
      "[CV] grad__max_features=91, forest__max_features=166, forest__criterion=gini, forest__max_depth=296, grad__max_depth=5, grad__min_samples_split=31, forest__min_samples_split=41 \n",
      "[CV]  grad__max_features=344, forest__max_features=50, forest__criterion=entropy, forest__max_depth=179, grad__max_depth=8, grad__min_samples_split=443, forest__min_samples_split=495, total=10.2min\n",
      "[CV]  grad__max_features=344, forest__max_features=50, forest__criterion=entropy, forest__max_depth=179, grad__max_depth=8, grad__min_samples_split=443, forest__min_samples_split=495, total=10.3min\n",
      "[CV] grad__max_features=111, forest__max_features=4, forest__criterion=gini, forest__max_depth=331, grad__max_depth=8, grad__min_samples_split=155, forest__min_samples_split=314 \n",
      "[CV] grad__max_features=111, forest__max_features=4, forest__criterion=gini, forest__max_depth=331, grad__max_depth=8, grad__min_samples_split=155, forest__min_samples_split=314 \n",
      "[CV]  grad__max_features=344, forest__max_features=50, forest__criterion=entropy, forest__max_depth=179, grad__max_depth=8, grad__min_samples_split=443, forest__min_samples_split=495, total=10.3min\n",
      "[CV] grad__max_features=111, forest__max_features=4, forest__criterion=gini, forest__max_depth=331, grad__max_depth=8, grad__min_samples_split=155, forest__min_samples_split=314 \n",
      "[CV]  grad__max_features=344, forest__max_features=50, forest__criterion=entropy, forest__max_depth=179, grad__max_depth=8, grad__min_samples_split=443, forest__min_samples_split=495, total=10.3min\n",
      "[CV] grad__max_features=111, forest__max_features=4, forest__criterion=gini, forest__max_depth=331, grad__max_depth=8, grad__min_samples_split=155, forest__min_samples_split=314 \n",
      "[CV]  grad__max_features=91, forest__max_features=166, forest__criterion=gini, forest__max_depth=296, grad__max_depth=5, grad__min_samples_split=31, forest__min_samples_split=41, total= 2.3min\n",
      "[CV] grad__max_features=55, forest__max_features=249, forest__criterion=entropy, forest__max_depth=16, grad__max_depth=8, grad__min_samples_split=28, forest__min_samples_split=211 \n",
      "[CV]  grad__max_features=91, forest__max_features=166, forest__criterion=gini, forest__max_depth=296, grad__max_depth=5, grad__min_samples_split=31, forest__min_samples_split=41, total= 2.3min\n",
      "[CV] grad__max_features=55, forest__max_features=249, forest__criterion=entropy, forest__max_depth=16, grad__max_depth=8, grad__min_samples_split=28, forest__min_samples_split=211 \n",
      "[CV]  grad__max_features=91, forest__max_features=166, forest__criterion=gini, forest__max_depth=296, grad__max_depth=5, grad__min_samples_split=31, forest__min_samples_split=41, total= 2.3min\n",
      "[CV] grad__max_features=55, forest__max_features=249, forest__criterion=entropy, forest__max_depth=16, grad__max_depth=8, grad__min_samples_split=28, forest__min_samples_split=211 \n",
      "[CV]  grad__max_features=91, forest__max_features=166, forest__criterion=gini, forest__max_depth=296, grad__max_depth=5, grad__min_samples_split=31, forest__min_samples_split=41, total= 2.3min\n",
      "[CV] grad__max_features=55, forest__max_features=249, forest__criterion=entropy, forest__max_depth=16, grad__max_depth=8, grad__min_samples_split=28, forest__min_samples_split=211 \n",
      "[CV]  grad__max_features=55, forest__max_features=249, forest__criterion=entropy, forest__max_depth=16, grad__max_depth=8, grad__min_samples_split=28, forest__min_samples_split=211, total= 2.9min\n",
      "[CV] grad__max_features=216, forest__max_features=199, forest__criterion=entropy, forest__max_depth=217, grad__max_depth=6, grad__min_samples_split=93, forest__min_samples_split=167 \n"
     ]
    },
    {
     "name": "stderr",
     "output_type": "stream",
     "text": [
      "[Parallel(n_jobs=-1)]: Done  25 tasks      | elapsed: 21.8min\n"
     ]
    },
    {
     "name": "stdout",
     "output_type": "stream",
     "text": [
      "[CV]  grad__max_features=55, forest__max_features=249, forest__criterion=entropy, forest__max_depth=16, grad__max_depth=8, grad__min_samples_split=28, forest__min_samples_split=211, total= 2.9min\n",
      "[CV] grad__max_features=216, forest__max_features=199, forest__criterion=entropy, forest__max_depth=217, grad__max_depth=6, grad__min_samples_split=93, forest__min_samples_split=167 \n",
      "[CV]  grad__max_features=55, forest__max_features=249, forest__criterion=entropy, forest__max_depth=16, grad__max_depth=8, grad__min_samples_split=28, forest__min_samples_split=211, total= 2.9min\n",
      "[CV] grad__max_features=216, forest__max_features=199, forest__criterion=entropy, forest__max_depth=217, grad__max_depth=6, grad__min_samples_split=93, forest__min_samples_split=167 \n",
      "[CV]  grad__max_features=55, forest__max_features=249, forest__criterion=entropy, forest__max_depth=16, grad__max_depth=8, grad__min_samples_split=28, forest__min_samples_split=211, total= 2.9min\n",
      "[CV] grad__max_features=216, forest__max_features=199, forest__criterion=entropy, forest__max_depth=217, grad__max_depth=6, grad__min_samples_split=93, forest__min_samples_split=167 \n",
      "[CV]  grad__max_features=111, forest__max_features=4, forest__criterion=gini, forest__max_depth=331, grad__max_depth=8, grad__min_samples_split=155, forest__min_samples_split=314, total= 3.9min\n",
      "[CV] grad__max_features=21, forest__max_features=149, forest__criterion=gini, forest__max_depth=100, grad__max_depth=3, grad__min_samples_split=339, forest__min_samples_split=194 \n",
      "[CV]  grad__max_features=111, forest__max_features=4, forest__criterion=gini, forest__max_depth=331, grad__max_depth=8, grad__min_samples_split=155, forest__min_samples_split=314, total= 4.0min\n",
      "[CV] grad__max_features=21, forest__max_features=149, forest__criterion=gini, forest__max_depth=100, grad__max_depth=3, grad__min_samples_split=339, forest__min_samples_split=194 \n",
      "[CV]  grad__max_features=111, forest__max_features=4, forest__criterion=gini, forest__max_depth=331, grad__max_depth=8, grad__min_samples_split=155, forest__min_samples_split=314, total= 4.0min\n",
      "[CV] grad__max_features=21, forest__max_features=149, forest__criterion=gini, forest__max_depth=100, grad__max_depth=3, grad__min_samples_split=339, forest__min_samples_split=194 \n",
      "[CV]  grad__max_features=111, forest__max_features=4, forest__criterion=gini, forest__max_depth=331, grad__max_depth=8, grad__min_samples_split=155, forest__min_samples_split=314, total= 4.1min\n",
      "[CV] grad__max_features=21, forest__max_features=149, forest__criterion=gini, forest__max_depth=100, grad__max_depth=3, grad__min_samples_split=339, forest__min_samples_split=194 \n",
      "[CV]  grad__max_features=21, forest__max_features=149, forest__criterion=gini, forest__max_depth=100, grad__max_depth=3, grad__min_samples_split=339, forest__min_samples_split=194, total=  50.2s\n",
      "[CV] grad__max_features=128, forest__max_features=132, forest__criterion=gini, forest__max_depth=205, grad__max_depth=9, grad__min_samples_split=34, forest__min_samples_split=243 \n",
      "[CV]  grad__max_features=21, forest__max_features=149, forest__criterion=gini, forest__max_depth=100, grad__max_depth=3, grad__min_samples_split=339, forest__min_samples_split=194, total=  51.2s\n",
      "[CV] grad__max_features=128, forest__max_features=132, forest__criterion=gini, forest__max_depth=205, grad__max_depth=9, grad__min_samples_split=34, forest__min_samples_split=243 \n",
      "[CV]  grad__max_features=21, forest__max_features=149, forest__criterion=gini, forest__max_depth=100, grad__max_depth=3, grad__min_samples_split=339, forest__min_samples_split=194, total=  49.0s\n",
      "[CV] grad__max_features=128, forest__max_features=132, forest__criterion=gini, forest__max_depth=205, grad__max_depth=9, grad__min_samples_split=34, forest__min_samples_split=243 \n",
      "[CV]  grad__max_features=21, forest__max_features=149, forest__criterion=gini, forest__max_depth=100, grad__max_depth=3, grad__min_samples_split=339, forest__min_samples_split=194, total=  50.0s\n",
      "[CV] grad__max_features=128, forest__max_features=132, forest__criterion=gini, forest__max_depth=205, grad__max_depth=9, grad__min_samples_split=34, forest__min_samples_split=243 \n",
      "[CV]  grad__max_features=216, forest__max_features=199, forest__criterion=entropy, forest__max_depth=217, grad__max_depth=6, grad__min_samples_split=93, forest__min_samples_split=167, total= 5.5min\n",
      "[CV] grad__max_features=351, forest__max_features=347, forest__criterion=gini, forest__max_depth=156, grad__max_depth=2, grad__min_samples_split=490, forest__min_samples_split=90 \n",
      "[CV]  grad__max_features=216, forest__max_features=199, forest__criterion=entropy, forest__max_depth=217, grad__max_depth=6, grad__min_samples_split=93, forest__min_samples_split=167, total= 5.5min\n",
      "[CV] grad__max_features=351, forest__max_features=347, forest__criterion=gini, forest__max_depth=156, grad__max_depth=2, grad__min_samples_split=490, forest__min_samples_split=90 \n",
      "[CV]  grad__max_features=216, forest__max_features=199, forest__criterion=entropy, forest__max_depth=217, grad__max_depth=6, grad__min_samples_split=93, forest__min_samples_split=167, total= 5.6min\n",
      "[CV] grad__max_features=351, forest__max_features=347, forest__criterion=gini, forest__max_depth=156, grad__max_depth=2, grad__min_samples_split=490, forest__min_samples_split=90 \n",
      "[CV]  grad__max_features=216, forest__max_features=199, forest__criterion=entropy, forest__max_depth=217, grad__max_depth=6, grad__min_samples_split=93, forest__min_samples_split=167, total= 5.6min\n",
      "[CV] grad__max_features=351, forest__max_features=347, forest__criterion=gini, forest__max_depth=156, grad__max_depth=2, grad__min_samples_split=490, forest__min_samples_split=90 \n",
      "[CV]  grad__max_features=128, forest__max_features=132, forest__criterion=gini, forest__max_depth=205, grad__max_depth=9, grad__min_samples_split=34, forest__min_samples_split=243, total= 6.6min\n",
      "[CV] grad__max_features=270, forest__max_features=266, forest__criterion=gini, forest__max_depth=238, grad__max_depth=9, grad__min_samples_split=174, forest__min_samples_split=146 \n",
      "[CV]  grad__max_features=128, forest__max_features=132, forest__criterion=gini, forest__max_depth=205, grad__max_depth=9, grad__min_samples_split=34, forest__min_samples_split=243, total= 6.6min\n",
      "[CV] grad__max_features=270, forest__max_features=266, forest__criterion=gini, forest__max_depth=238, grad__max_depth=9, grad__min_samples_split=174, forest__min_samples_split=146 \n",
      "[CV]  grad__max_features=128, forest__max_features=132, forest__criterion=gini, forest__max_depth=205, grad__max_depth=9, grad__min_samples_split=34, forest__min_samples_split=243, total= 6.8min\n",
      "[CV] grad__max_features=270, forest__max_features=266, forest__criterion=gini, forest__max_depth=238, grad__max_depth=9, grad__min_samples_split=174, forest__min_samples_split=146 \n",
      "[CV]  grad__max_features=128, forest__max_features=132, forest__criterion=gini, forest__max_depth=205, grad__max_depth=9, grad__min_samples_split=34, forest__min_samples_split=243, total= 6.8min\n",
      "[CV] grad__max_features=270, forest__max_features=266, forest__criterion=gini, forest__max_depth=238, grad__max_depth=9, grad__min_samples_split=174, forest__min_samples_split=146 \n",
      "[CV]  grad__max_features=351, forest__max_features=347, forest__criterion=gini, forest__max_depth=156, grad__max_depth=2, grad__min_samples_split=490, forest__min_samples_split=90, total= 3.4min\n",
      "[CV] grad__max_features=310, forest__max_features=158, forest__criterion=gini, forest__max_depth=205, grad__max_depth=8, grad__min_samples_split=212, forest__min_samples_split=279 \n",
      "[CV]  grad__max_features=351, forest__max_features=347, forest__criterion=gini, forest__max_depth=156, grad__max_depth=2, grad__min_samples_split=490, forest__min_samples_split=90, total= 3.4min\n",
      "[CV] grad__max_features=310, forest__max_features=158, forest__criterion=gini, forest__max_depth=205, grad__max_depth=8, grad__min_samples_split=212, forest__min_samples_split=279 \n",
      "[CV]  grad__max_features=351, forest__max_features=347, forest__criterion=gini, forest__max_depth=156, grad__max_depth=2, grad__min_samples_split=490, forest__min_samples_split=90, total= 3.4min\n",
      "[CV] grad__max_features=310, forest__max_features=158, forest__criterion=gini, forest__max_depth=205, grad__max_depth=8, grad__min_samples_split=212, forest__min_samples_split=279 \n",
      "[CV]  grad__max_features=351, forest__max_features=347, forest__criterion=gini, forest__max_depth=156, grad__max_depth=2, grad__min_samples_split=490, forest__min_samples_split=90, total= 3.5min\n",
      "[CV] grad__max_features=310, forest__max_features=158, forest__criterion=gini, forest__max_depth=205, grad__max_depth=8, grad__min_samples_split=212, forest__min_samples_split=279 \n",
      "[CV]  grad__max_features=310, forest__max_features=158, forest__criterion=gini, forest__max_depth=205, grad__max_depth=8, grad__min_samples_split=212, forest__min_samples_split=279, total=10.5min\n",
      "[CV] grad__max_features=130, forest__max_features=137, forest__criterion=gini, forest__max_depth=233, grad__max_depth=8, grad__min_samples_split=46, forest__min_samples_split=375 \n",
      "[CV]  grad__max_features=310, forest__max_features=158, forest__criterion=gini, forest__max_depth=205, grad__max_depth=8, grad__min_samples_split=212, forest__min_samples_split=279, total=10.5min\n",
      "[CV] grad__max_features=130, forest__max_features=137, forest__criterion=gini, forest__max_depth=233, grad__max_depth=8, grad__min_samples_split=46, forest__min_samples_split=375 \n",
      "[CV]  grad__max_features=310, forest__max_features=158, forest__criterion=gini, forest__max_depth=205, grad__max_depth=8, grad__min_samples_split=212, forest__min_samples_split=279, total=10.5min\n",
      "[CV] grad__max_features=130, forest__max_features=137, forest__criterion=gini, forest__max_depth=233, grad__max_depth=8, grad__min_samples_split=46, forest__min_samples_split=375 \n",
      "[CV]  grad__max_features=270, forest__max_features=266, forest__criterion=gini, forest__max_depth=238, grad__max_depth=9, grad__min_samples_split=174, forest__min_samples_split=146, total=11.8min\n",
      "[CV] grad__max_features=130, forest__max_features=137, forest__criterion=gini, forest__max_depth=233, grad__max_depth=8, grad__min_samples_split=46, forest__min_samples_split=375 \n",
      "[CV]  grad__max_features=310, forest__max_features=158, forest__criterion=gini, forest__max_depth=205, grad__max_depth=8, grad__min_samples_split=212, forest__min_samples_split=279, total=10.7min\n",
      "[CV] grad__max_features=348, forest__max_features=196, forest__criterion=entropy, forest__max_depth=186, grad__max_depth=2, grad__min_samples_split=289, forest__min_samples_split=369 \n",
      "[CV]  grad__max_features=270, forest__max_features=266, forest__criterion=gini, forest__max_depth=238, grad__max_depth=9, grad__min_samples_split=174, forest__min_samples_split=146, total=12.0min\n",
      "[CV] grad__max_features=348, forest__max_features=196, forest__criterion=entropy, forest__max_depth=186, grad__max_depth=2, grad__min_samples_split=289, forest__min_samples_split=369 \n",
      "[CV]  grad__max_features=270, forest__max_features=266, forest__criterion=gini, forest__max_depth=238, grad__max_depth=9, grad__min_samples_split=174, forest__min_samples_split=146, total=11.9min\n",
      "[CV] grad__max_features=348, forest__max_features=196, forest__criterion=entropy, forest__max_depth=186, grad__max_depth=2, grad__min_samples_split=289, forest__min_samples_split=369 \n",
      "[CV]  grad__max_features=270, forest__max_features=266, forest__criterion=gini, forest__max_depth=238, grad__max_depth=9, grad__min_samples_split=174, forest__min_samples_split=146, total=11.9min\n",
      "[CV] grad__max_features=348, forest__max_features=196, forest__criterion=entropy, forest__max_depth=186, grad__max_depth=2, grad__min_samples_split=289, forest__min_samples_split=369 \n",
      "[CV]  grad__max_features=348, forest__max_features=196, forest__criterion=entropy, forest__max_depth=186, grad__max_depth=2, grad__min_samples_split=289, forest__min_samples_split=369, total= 2.6min\n",
      "[CV] grad__max_features=157, forest__max_features=85, forest__criterion=entropy, forest__max_depth=15, grad__max_depth=7, grad__min_samples_split=56, forest__min_samples_split=50 \n",
      "[CV]  grad__max_features=348, forest__max_features=196, forest__criterion=entropy, forest__max_depth=186, grad__max_depth=2, grad__min_samples_split=289, forest__min_samples_split=369, total= 2.6min\n",
      "[CV] grad__max_features=157, forest__max_features=85, forest__criterion=entropy, forest__max_depth=15, grad__max_depth=7, grad__min_samples_split=56, forest__min_samples_split=50 \n",
      "[CV]  grad__max_features=348, forest__max_features=196, forest__criterion=entropy, forest__max_depth=186, grad__max_depth=2, grad__min_samples_split=289, forest__min_samples_split=369, total= 2.6min\n",
      "[CV] grad__max_features=157, forest__max_features=85, forest__criterion=entropy, forest__max_depth=15, grad__max_depth=7, grad__min_samples_split=56, forest__min_samples_split=50 \n",
      "[CV]  grad__max_features=348, forest__max_features=196, forest__criterion=entropy, forest__max_depth=186, grad__max_depth=2, grad__min_samples_split=289, forest__min_samples_split=369, total= 2.6min\n",
      "[CV] grad__max_features=157, forest__max_features=85, forest__criterion=entropy, forest__max_depth=15, grad__max_depth=7, grad__min_samples_split=56, forest__min_samples_split=50 \n",
      "[CV]  grad__max_features=130, forest__max_features=137, forest__criterion=gini, forest__max_depth=233, grad__max_depth=8, grad__min_samples_split=46, forest__min_samples_split=375, total= 5.9min\n",
      "[CV] grad__max_features=186, forest__max_features=138, forest__criterion=entropy, forest__max_depth=243, grad__max_depth=9, grad__min_samples_split=120, forest__min_samples_split=245 \n",
      "[CV]  grad__max_features=130, forest__max_features=137, forest__criterion=gini, forest__max_depth=233, grad__max_depth=8, grad__min_samples_split=46, forest__min_samples_split=375, total= 6.0min\n",
      "[CV] grad__max_features=186, forest__max_features=138, forest__criterion=entropy, forest__max_depth=243, grad__max_depth=9, grad__min_samples_split=120, forest__min_samples_split=245 \n",
      "[CV]  grad__max_features=130, forest__max_features=137, forest__criterion=gini, forest__max_depth=233, grad__max_depth=8, grad__min_samples_split=46, forest__min_samples_split=375, total= 6.0min\n",
      "[CV] grad__max_features=186, forest__max_features=138, forest__criterion=entropy, forest__max_depth=243, grad__max_depth=9, grad__min_samples_split=120, forest__min_samples_split=245 \n",
      "[CV]  grad__max_features=130, forest__max_features=137, forest__criterion=gini, forest__max_depth=233, grad__max_depth=8, grad__min_samples_split=46, forest__min_samples_split=375, total= 6.0min\n",
      "[CV] grad__max_features=186, forest__max_features=138, forest__criterion=entropy, forest__max_depth=243, grad__max_depth=9, grad__min_samples_split=120, forest__min_samples_split=245 \n",
      "[CV]  grad__max_features=157, forest__max_features=85, forest__criterion=entropy, forest__max_depth=15, grad__max_depth=7, grad__min_samples_split=56, forest__min_samples_split=50, total= 5.0min\n",
      "[CV] grad__max_features=178, forest__max_features=332, forest__criterion=gini, forest__max_depth=64, grad__max_depth=8, grad__min_samples_split=351, forest__min_samples_split=353 \n",
      "[CV]  grad__max_features=157, forest__max_features=85, forest__criterion=entropy, forest__max_depth=15, grad__max_depth=7, grad__min_samples_split=56, forest__min_samples_split=50, total= 5.1min\n",
      "[CV] grad__max_features=178, forest__max_features=332, forest__criterion=gini, forest__max_depth=64, grad__max_depth=8, grad__min_samples_split=351, forest__min_samples_split=353 \n",
      "[CV]  grad__max_features=157, forest__max_features=85, forest__criterion=entropy, forest__max_depth=15, grad__max_depth=7, grad__min_samples_split=56, forest__min_samples_split=50, total= 5.1min\n",
      "[CV] grad__max_features=178, forest__max_features=332, forest__criterion=gini, forest__max_depth=64, grad__max_depth=8, grad__min_samples_split=351, forest__min_samples_split=353 \n",
      "[CV]  grad__max_features=157, forest__max_features=85, forest__criterion=entropy, forest__max_depth=15, grad__max_depth=7, grad__min_samples_split=56, forest__min_samples_split=50, total= 5.1min\n",
      "[CV] grad__max_features=178, forest__max_features=332, forest__criterion=gini, forest__max_depth=64, grad__max_depth=8, grad__min_samples_split=351, forest__min_samples_split=353 \n",
      "[CV]  grad__max_features=186, forest__max_features=138, forest__criterion=entropy, forest__max_depth=243, grad__max_depth=9, grad__min_samples_split=120, forest__min_samples_split=245, total= 8.2min\n",
      "[CV] grad__max_features=185, forest__max_features=207, forest__criterion=gini, forest__max_depth=71, grad__max_depth=2, grad__min_samples_split=237, forest__min_samples_split=475 \n",
      "[CV]  grad__max_features=186, forest__max_features=138, forest__criterion=entropy, forest__max_depth=243, grad__max_depth=9, grad__min_samples_split=120, forest__min_samples_split=245, total= 8.0min\n",
      "[CV] grad__max_features=185, forest__max_features=207, forest__criterion=gini, forest__max_depth=71, grad__max_depth=2, grad__min_samples_split=237, forest__min_samples_split=475 \n",
      "[CV]  grad__max_features=186, forest__max_features=138, forest__criterion=entropy, forest__max_depth=243, grad__max_depth=9, grad__min_samples_split=120, forest__min_samples_split=245, total= 8.2min\n",
      "[CV] grad__max_features=185, forest__max_features=207, forest__criterion=gini, forest__max_depth=71, grad__max_depth=2, grad__min_samples_split=237, forest__min_samples_split=475 \n",
      "[CV]  grad__max_features=186, forest__max_features=138, forest__criterion=entropy, forest__max_depth=243, grad__max_depth=9, grad__min_samples_split=120, forest__min_samples_split=245, total= 8.1min\n",
      "[CV] grad__max_features=185, forest__max_features=207, forest__criterion=gini, forest__max_depth=71, grad__max_depth=2, grad__min_samples_split=237, forest__min_samples_split=475 \n",
      "[CV]  grad__max_features=178, forest__max_features=332, forest__criterion=gini, forest__max_depth=64, grad__max_depth=8, grad__min_samples_split=351, forest__min_samples_split=353, total= 7.1min\n",
      "[CV] grad__max_features=123, forest__max_features=359, forest__criterion=entropy, forest__max_depth=19, grad__max_depth=5, grad__min_samples_split=485, forest__min_samples_split=371 \n",
      "[CV]  grad__max_features=178, forest__max_features=332, forest__criterion=gini, forest__max_depth=64, grad__max_depth=8, grad__min_samples_split=351, forest__min_samples_split=353, total= 7.0min\n",
      "[CV] grad__max_features=123, forest__max_features=359, forest__criterion=entropy, forest__max_depth=19, grad__max_depth=5, grad__min_samples_split=485, forest__min_samples_split=371 \n",
      "[CV]  grad__max_features=178, forest__max_features=332, forest__criterion=gini, forest__max_depth=64, grad__max_depth=8, grad__min_samples_split=351, forest__min_samples_split=353, total= 7.0min\n",
      "[CV] grad__max_features=123, forest__max_features=359, forest__criterion=entropy, forest__max_depth=19, grad__max_depth=5, grad__min_samples_split=485, forest__min_samples_split=371 \n",
      "[CV]  grad__max_features=178, forest__max_features=332, forest__criterion=gini, forest__max_depth=64, grad__max_depth=8, grad__min_samples_split=351, forest__min_samples_split=353, total= 7.0min\n",
      "[CV] grad__max_features=123, forest__max_features=359, forest__criterion=entropy, forest__max_depth=19, grad__max_depth=5, grad__min_samples_split=485, forest__min_samples_split=371 \n",
      "[CV]  grad__max_features=185, forest__max_features=207, forest__criterion=gini, forest__max_depth=71, grad__max_depth=2, grad__min_samples_split=237, forest__min_samples_split=475, total= 1.7min\n",
      "[CV] grad__max_features=290, forest__max_features=67, forest__criterion=gini, forest__max_depth=285, grad__max_depth=9, grad__min_samples_split=91, forest__min_samples_split=371 \n",
      "[CV]  grad__max_features=185, forest__max_features=207, forest__criterion=gini, forest__max_depth=71, grad__max_depth=2, grad__min_samples_split=237, forest__min_samples_split=475, total= 1.6min\n",
      "[CV] grad__max_features=290, forest__max_features=67, forest__criterion=gini, forest__max_depth=285, grad__max_depth=9, grad__min_samples_split=91, forest__min_samples_split=371 \n",
      "[CV]  grad__max_features=185, forest__max_features=207, forest__criterion=gini, forest__max_depth=71, grad__max_depth=2, grad__min_samples_split=237, forest__min_samples_split=475, total= 1.6min\n",
      "[CV] grad__max_features=290, forest__max_features=67, forest__criterion=gini, forest__max_depth=285, grad__max_depth=9, grad__min_samples_split=91, forest__min_samples_split=371 \n",
      "[CV]  grad__max_features=185, forest__max_features=207, forest__criterion=gini, forest__max_depth=71, grad__max_depth=2, grad__min_samples_split=237, forest__min_samples_split=475, total= 1.7min\n",
      "[CV] grad__max_features=290, forest__max_features=67, forest__criterion=gini, forest__max_depth=285, grad__max_depth=9, grad__min_samples_split=91, forest__min_samples_split=371 \n",
      "[CV]  grad__max_features=123, forest__max_features=359, forest__criterion=entropy, forest__max_depth=19, grad__max_depth=5, grad__min_samples_split=485, forest__min_samples_split=371, total= 3.1min\n",
      "[CV] grad__max_features=53, forest__max_features=224, forest__criterion=gini, forest__max_depth=25, grad__max_depth=4, grad__min_samples_split=226, forest__min_samples_split=241 \n",
      "[CV]  grad__max_features=123, forest__max_features=359, forest__criterion=entropy, forest__max_depth=19, grad__max_depth=5, grad__min_samples_split=485, forest__min_samples_split=371, total= 3.1min\n",
      "[CV] grad__max_features=53, forest__max_features=224, forest__criterion=gini, forest__max_depth=25, grad__max_depth=4, grad__min_samples_split=226, forest__min_samples_split=241 \n",
      "[CV]  grad__max_features=123, forest__max_features=359, forest__criterion=entropy, forest__max_depth=19, grad__max_depth=5, grad__min_samples_split=485, forest__min_samples_split=371, total= 3.1min\n",
      "[CV] grad__max_features=53, forest__max_features=224, forest__criterion=gini, forest__max_depth=25, grad__max_depth=4, grad__min_samples_split=226, forest__min_samples_split=241 \n",
      "[CV]  grad__max_features=123, forest__max_features=359, forest__criterion=entropy, forest__max_depth=19, grad__max_depth=5, grad__min_samples_split=485, forest__min_samples_split=371, total= 3.1min\n",
      "[CV] grad__max_features=53, forest__max_features=224, forest__criterion=gini, forest__max_depth=25, grad__max_depth=4, grad__min_samples_split=226, forest__min_samples_split=241 \n",
      "[CV]  grad__max_features=53, forest__max_features=224, forest__criterion=gini, forest__max_depth=25, grad__max_depth=4, grad__min_samples_split=226, forest__min_samples_split=241, total= 1.5min\n",
      "[CV] grad__max_features=231, forest__max_features=13, forest__criterion=entropy, forest__max_depth=331, grad__max_depth=9, grad__min_samples_split=291, forest__min_samples_split=310 \n",
      "[CV]  grad__max_features=53, forest__max_features=224, forest__criterion=gini, forest__max_depth=25, grad__max_depth=4, grad__min_samples_split=226, forest__min_samples_split=241, total= 1.5min\n",
      "[CV] grad__max_features=231, forest__max_features=13, forest__criterion=entropy, forest__max_depth=331, grad__max_depth=9, grad__min_samples_split=291, forest__min_samples_split=310 \n",
      "[CV]  grad__max_features=53, forest__max_features=224, forest__criterion=gini, forest__max_depth=25, grad__max_depth=4, grad__min_samples_split=226, forest__min_samples_split=241, total= 1.5min\n",
      "[CV] grad__max_features=231, forest__max_features=13, forest__criterion=entropy, forest__max_depth=331, grad__max_depth=9, grad__min_samples_split=291, forest__min_samples_split=310 \n",
      "[CV]  grad__max_features=53, forest__max_features=224, forest__criterion=gini, forest__max_depth=25, grad__max_depth=4, grad__min_samples_split=226, forest__min_samples_split=241, total= 1.5min\n",
      "[CV] grad__max_features=231, forest__max_features=13, forest__criterion=entropy, forest__max_depth=331, grad__max_depth=9, grad__min_samples_split=291, forest__min_samples_split=310 \n",
      "[CV]  grad__max_features=290, forest__max_features=67, forest__criterion=gini, forest__max_depth=285, grad__max_depth=9, grad__min_samples_split=91, forest__min_samples_split=371, total=12.9min\n",
      "[CV] grad__max_features=282, forest__max_features=34, forest__criterion=entropy, forest__max_depth=9, grad__max_depth=7, grad__min_samples_split=323, forest__min_samples_split=25 \n",
      "[CV]  grad__max_features=290, forest__max_features=67, forest__criterion=gini, forest__max_depth=285, grad__max_depth=9, grad__min_samples_split=91, forest__min_samples_split=371, total=13.2min\n",
      "[CV] grad__max_features=282, forest__max_features=34, forest__criterion=entropy, forest__max_depth=9, grad__max_depth=7, grad__min_samples_split=323, forest__min_samples_split=25 \n",
      "[CV]  grad__max_features=290, forest__max_features=67, forest__criterion=gini, forest__max_depth=285, grad__max_depth=9, grad__min_samples_split=91, forest__min_samples_split=371, total=13.2min\n",
      "[CV] grad__max_features=282, forest__max_features=34, forest__criterion=entropy, forest__max_depth=9, grad__max_depth=7, grad__min_samples_split=323, forest__min_samples_split=25 \n",
      "[CV]  grad__max_features=290, forest__max_features=67, forest__criterion=gini, forest__max_depth=285, grad__max_depth=9, grad__min_samples_split=91, forest__min_samples_split=371, total=13.2min\n",
      "[CV] grad__max_features=282, forest__max_features=34, forest__criterion=entropy, forest__max_depth=9, grad__max_depth=7, grad__min_samples_split=323, forest__min_samples_split=25 \n",
      "[CV]  grad__max_features=231, forest__max_features=13, forest__criterion=entropy, forest__max_depth=331, grad__max_depth=9, grad__min_samples_split=291, forest__min_samples_split=310, total= 9.6min\n",
      "[CV] grad__max_features=34, forest__max_features=95, forest__criterion=gini, forest__max_depth=186, grad__max_depth=9, grad__min_samples_split=474, forest__min_samples_split=289 \n",
      "[CV]  grad__max_features=231, forest__max_features=13, forest__criterion=entropy, forest__max_depth=331, grad__max_depth=9, grad__min_samples_split=291, forest__min_samples_split=310, total= 9.6min\n",
      "[CV] grad__max_features=34, forest__max_features=95, forest__criterion=gini, forest__max_depth=186, grad__max_depth=9, grad__min_samples_split=474, forest__min_samples_split=289 \n",
      "[CV]  grad__max_features=231, forest__max_features=13, forest__criterion=entropy, forest__max_depth=331, grad__max_depth=9, grad__min_samples_split=291, forest__min_samples_split=310, total= 9.7min\n",
      "[CV] grad__max_features=34, forest__max_features=95, forest__criterion=gini, forest__max_depth=186, grad__max_depth=9, grad__min_samples_split=474, forest__min_samples_split=289 \n",
      "[CV]  grad__max_features=231, forest__max_features=13, forest__criterion=entropy, forest__max_depth=331, grad__max_depth=9, grad__min_samples_split=291, forest__min_samples_split=310, total= 9.9min\n",
      "[CV] grad__max_features=34, forest__max_features=95, forest__criterion=gini, forest__max_depth=186, grad__max_depth=9, grad__min_samples_split=474, forest__min_samples_split=289 \n",
      "[CV]  grad__max_features=34, forest__max_features=95, forest__criterion=gini, forest__max_depth=186, grad__max_depth=9, grad__min_samples_split=474, forest__min_samples_split=289, total= 2.0min\n",
      "[CV]  grad__max_features=34, forest__max_features=95, forest__criterion=gini, forest__max_depth=186, grad__max_depth=9, grad__min_samples_split=474, forest__min_samples_split=289, total= 1.9min\n",
      "[CV] grad__max_features=49, forest__max_features=2, forest__criterion=entropy, forest__max_depth=15, grad__max_depth=8, grad__min_samples_split=32, forest__min_samples_split=50 \n",
      "[CV] grad__max_features=49, forest__max_features=2, forest__criterion=entropy, forest__max_depth=15, grad__max_depth=8, grad__min_samples_split=32, forest__min_samples_split=50 \n",
      "[CV]  grad__max_features=34, forest__max_features=95, forest__criterion=gini, forest__max_depth=186, grad__max_depth=9, grad__min_samples_split=474, forest__min_samples_split=289, total= 1.9min\n",
      "[CV] grad__max_features=49, forest__max_features=2, forest__criterion=entropy, forest__max_depth=15, grad__max_depth=8, grad__min_samples_split=32, forest__min_samples_split=50 \n",
      "[CV]  grad__max_features=34, forest__max_features=95, forest__criterion=gini, forest__max_depth=186, grad__max_depth=9, grad__min_samples_split=474, forest__min_samples_split=289, total= 1.8min\n",
      "[CV] grad__max_features=49, forest__max_features=2, forest__criterion=entropy, forest__max_depth=15, grad__max_depth=8, grad__min_samples_split=32, forest__min_samples_split=50 \n",
      "[CV]  grad__max_features=49, forest__max_features=2, forest__criterion=entropy, forest__max_depth=15, grad__max_depth=8, grad__min_samples_split=32, forest__min_samples_split=50, total= 2.0min\n",
      "[CV] grad__max_features=235, forest__max_features=325, forest__criterion=entropy, forest__max_depth=360, grad__max_depth=7, grad__min_samples_split=137, forest__min_samples_split=169 \n",
      "[CV]  grad__max_features=49, forest__max_features=2, forest__criterion=entropy, forest__max_depth=15, grad__max_depth=8, grad__min_samples_split=32, forest__min_samples_split=50, total= 2.0min\n",
      "[CV] grad__max_features=235, forest__max_features=325, forest__criterion=entropy, forest__max_depth=360, grad__max_depth=7, grad__min_samples_split=137, forest__min_samples_split=169 \n",
      "[CV]  grad__max_features=49, forest__max_features=2, forest__criterion=entropy, forest__max_depth=15, grad__max_depth=8, grad__min_samples_split=32, forest__min_samples_split=50, total= 2.0min\n",
      "[CV] grad__max_features=235, forest__max_features=325, forest__criterion=entropy, forest__max_depth=360, grad__max_depth=7, grad__min_samples_split=137, forest__min_samples_split=169 \n",
      "[CV]  grad__max_features=49, forest__max_features=2, forest__criterion=entropy, forest__max_depth=15, grad__max_depth=8, grad__min_samples_split=32, forest__min_samples_split=50, total= 1.9min\n",
      "[CV] grad__max_features=235, forest__max_features=325, forest__criterion=entropy, forest__max_depth=360, grad__max_depth=7, grad__min_samples_split=137, forest__min_samples_split=169 \n",
      "[CV]  grad__max_features=282, forest__max_features=34, forest__criterion=entropy, forest__max_depth=9, grad__max_depth=7, grad__min_samples_split=323, forest__min_samples_split=25, total= 7.6min\n",
      "[CV] grad__max_features=6, forest__max_features=343, forest__criterion=entropy, forest__max_depth=116, grad__max_depth=3, grad__min_samples_split=365, forest__min_samples_split=6 \n",
      "[CV]  grad__max_features=282, forest__max_features=34, forest__criterion=entropy, forest__max_depth=9, grad__max_depth=7, grad__min_samples_split=323, forest__min_samples_split=25, total= 7.5min\n",
      "[CV] grad__max_features=6, forest__max_features=343, forest__criterion=entropy, forest__max_depth=116, grad__max_depth=3, grad__min_samples_split=365, forest__min_samples_split=6 \n",
      "[CV]  grad__max_features=282, forest__max_features=34, forest__criterion=entropy, forest__max_depth=9, grad__max_depth=7, grad__min_samples_split=323, forest__min_samples_split=25, total= 7.4min\n",
      "[CV] grad__max_features=6, forest__max_features=343, forest__criterion=entropy, forest__max_depth=116, grad__max_depth=3, grad__min_samples_split=365, forest__min_samples_split=6 \n",
      "[CV]  grad__max_features=282, forest__max_features=34, forest__criterion=entropy, forest__max_depth=9, grad__max_depth=7, grad__min_samples_split=323, forest__min_samples_split=25, total= 7.6min\n",
      "[CV] grad__max_features=6, forest__max_features=343, forest__criterion=entropy, forest__max_depth=116, grad__max_depth=3, grad__min_samples_split=365, forest__min_samples_split=6 \n",
      "[CV]  grad__max_features=6, forest__max_features=343, forest__criterion=entropy, forest__max_depth=116, grad__max_depth=3, grad__min_samples_split=365, forest__min_samples_split=6, total= 1.4min\n",
      "[CV] grad__max_features=6, forest__max_features=241, forest__criterion=entropy, forest__max_depth=61, grad__max_depth=5, grad__min_samples_split=475, forest__min_samples_split=253 \n",
      "[CV]  grad__max_features=6, forest__max_features=343, forest__criterion=entropy, forest__max_depth=116, grad__max_depth=3, grad__min_samples_split=365, forest__min_samples_split=6, total= 1.4min\n",
      "[CV] grad__max_features=6, forest__max_features=241, forest__criterion=entropy, forest__max_depth=61, grad__max_depth=5, grad__min_samples_split=475, forest__min_samples_split=253 \n",
      "[CV]  grad__max_features=6, forest__max_features=343, forest__criterion=entropy, forest__max_depth=116, grad__max_depth=3, grad__min_samples_split=365, forest__min_samples_split=6, total= 1.4min\n",
      "[CV] grad__max_features=6, forest__max_features=241, forest__criterion=entropy, forest__max_depth=61, grad__max_depth=5, grad__min_samples_split=475, forest__min_samples_split=253 \n",
      "[CV]  grad__max_features=6, forest__max_features=343, forest__criterion=entropy, forest__max_depth=116, grad__max_depth=3, grad__min_samples_split=365, forest__min_samples_split=6, total= 1.4min\n",
      "[CV] grad__max_features=6, forest__max_features=241, forest__criterion=entropy, forest__max_depth=61, grad__max_depth=5, grad__min_samples_split=475, forest__min_samples_split=253 \n",
      "[CV]  grad__max_features=6, forest__max_features=241, forest__criterion=entropy, forest__max_depth=61, grad__max_depth=5, grad__min_samples_split=475, forest__min_samples_split=253, total= 1.3min\n",
      "[CV] grad__max_features=203, forest__max_features=292, forest__criterion=gini, forest__max_depth=291, grad__max_depth=3, grad__min_samples_split=272, forest__min_samples_split=499 \n",
      "[CV]  grad__max_features=6, forest__max_features=241, forest__criterion=entropy, forest__max_depth=61, grad__max_depth=5, grad__min_samples_split=475, forest__min_samples_split=253, total= 1.3min\n",
      "[CV] grad__max_features=203, forest__max_features=292, forest__criterion=gini, forest__max_depth=291, grad__max_depth=3, grad__min_samples_split=272, forest__min_samples_split=499 \n",
      "[CV]  grad__max_features=6, forest__max_features=241, forest__criterion=entropy, forest__max_depth=61, grad__max_depth=5, grad__min_samples_split=475, forest__min_samples_split=253, total= 1.3min\n",
      "[CV] grad__max_features=203, forest__max_features=292, forest__criterion=gini, forest__max_depth=291, grad__max_depth=3, grad__min_samples_split=272, forest__min_samples_split=499 \n",
      "[CV]  grad__max_features=6, forest__max_features=241, forest__criterion=entropy, forest__max_depth=61, grad__max_depth=5, grad__min_samples_split=475, forest__min_samples_split=253, total= 1.3min\n",
      "[CV] grad__max_features=203, forest__max_features=292, forest__criterion=gini, forest__max_depth=291, grad__max_depth=3, grad__min_samples_split=272, forest__min_samples_split=499 \n",
      "[CV]  grad__max_features=235, forest__max_features=325, forest__criterion=entropy, forest__max_depth=360, grad__max_depth=7, grad__min_samples_split=137, forest__min_samples_split=169, total= 7.4min\n",
      "[CV] grad__max_features=262, forest__max_features=344, forest__criterion=gini, forest__max_depth=184, grad__max_depth=6, grad__min_samples_split=445, forest__min_samples_split=380 \n",
      "[CV]  grad__max_features=235, forest__max_features=325, forest__criterion=entropy, forest__max_depth=360, grad__max_depth=7, grad__min_samples_split=137, forest__min_samples_split=169, total= 7.6min\n",
      "[CV] grad__max_features=262, forest__max_features=344, forest__criterion=gini, forest__max_depth=184, grad__max_depth=6, grad__min_samples_split=445, forest__min_samples_split=380 \n",
      "[CV]  grad__max_features=235, forest__max_features=325, forest__criterion=entropy, forest__max_depth=360, grad__max_depth=7, grad__min_samples_split=137, forest__min_samples_split=169, total= 7.6min\n",
      "[CV] grad__max_features=262, forest__max_features=344, forest__criterion=gini, forest__max_depth=184, grad__max_depth=6, grad__min_samples_split=445, forest__min_samples_split=380 \n",
      "[CV]  grad__max_features=235, forest__max_features=325, forest__criterion=entropy, forest__max_depth=360, grad__max_depth=7, grad__min_samples_split=137, forest__min_samples_split=169, total= 7.6min\n",
      "[CV] grad__max_features=262, forest__max_features=344, forest__criterion=gini, forest__max_depth=184, grad__max_depth=6, grad__min_samples_split=445, forest__min_samples_split=380 \n",
      "[CV]  grad__max_features=203, forest__max_features=292, forest__criterion=gini, forest__max_depth=291, grad__max_depth=3, grad__min_samples_split=272, forest__min_samples_split=499, total= 2.8min\n",
      "[CV] grad__max_features=285, forest__max_features=325, forest__criterion=gini, forest__max_depth=46, grad__max_depth=6, grad__min_samples_split=245, forest__min_samples_split=60 \n",
      "[CV]  grad__max_features=203, forest__max_features=292, forest__criterion=gini, forest__max_depth=291, grad__max_depth=3, grad__min_samples_split=272, forest__min_samples_split=499, total= 2.7min\n",
      "[CV] grad__max_features=285, forest__max_features=325, forest__criterion=gini, forest__max_depth=46, grad__max_depth=6, grad__min_samples_split=245, forest__min_samples_split=60 \n",
      "[CV]  grad__max_features=203, forest__max_features=292, forest__criterion=gini, forest__max_depth=291, grad__max_depth=3, grad__min_samples_split=272, forest__min_samples_split=499, total= 2.7min\n",
      "[CV] grad__max_features=285, forest__max_features=325, forest__criterion=gini, forest__max_depth=46, grad__max_depth=6, grad__min_samples_split=245, forest__min_samples_split=60 \n",
      "[CV]  grad__max_features=203, forest__max_features=292, forest__criterion=gini, forest__max_depth=291, grad__max_depth=3, grad__min_samples_split=272, forest__min_samples_split=499, total= 2.7min\n",
      "[CV] grad__max_features=285, forest__max_features=325, forest__criterion=gini, forest__max_depth=46, grad__max_depth=6, grad__min_samples_split=245, forest__min_samples_split=60 \n",
      "[CV]  grad__max_features=262, forest__max_features=344, forest__criterion=gini, forest__max_depth=184, grad__max_depth=6, grad__min_samples_split=445, forest__min_samples_split=380, total=11.5min\n",
      "[CV] grad__max_features=224, forest__max_features=322, forest__criterion=gini, forest__max_depth=35, grad__max_depth=2, grad__min_samples_split=486, forest__min_samples_split=169 \n",
      "[CV]  grad__max_features=262, forest__max_features=344, forest__criterion=gini, forest__max_depth=184, grad__max_depth=6, grad__min_samples_split=445, forest__min_samples_split=380, total=11.4min\n",
      "[CV] grad__max_features=224, forest__max_features=322, forest__criterion=gini, forest__max_depth=35, grad__max_depth=2, grad__min_samples_split=486, forest__min_samples_split=169 \n",
      "[CV]  grad__max_features=262, forest__max_features=344, forest__criterion=gini, forest__max_depth=184, grad__max_depth=6, grad__min_samples_split=445, forest__min_samples_split=380, total=11.5min\n",
      "[CV] grad__max_features=224, forest__max_features=322, forest__criterion=gini, forest__max_depth=35, grad__max_depth=2, grad__min_samples_split=486, forest__min_samples_split=169 \n",
      "[CV]  grad__max_features=262, forest__max_features=344, forest__criterion=gini, forest__max_depth=184, grad__max_depth=6, grad__min_samples_split=445, forest__min_samples_split=380, total=11.5min\n",
      "[CV] grad__max_features=224, forest__max_features=322, forest__criterion=gini, forest__max_depth=35, grad__max_depth=2, grad__min_samples_split=486, forest__min_samples_split=169 \n",
      "[CV]  grad__max_features=285, forest__max_features=325, forest__criterion=gini, forest__max_depth=46, grad__max_depth=6, grad__min_samples_split=245, forest__min_samples_split=60, total=12.1min\n",
      "[CV] grad__max_features=364, forest__max_features=359, forest__criterion=gini, forest__max_depth=334, grad__max_depth=6, grad__min_samples_split=43, forest__min_samples_split=8 \n",
      "[CV]  grad__max_features=285, forest__max_features=325, forest__criterion=gini, forest__max_depth=46, grad__max_depth=6, grad__min_samples_split=245, forest__min_samples_split=60, total=12.2min\n",
      "[CV] grad__max_features=364, forest__max_features=359, forest__criterion=gini, forest__max_depth=334, grad__max_depth=6, grad__min_samples_split=43, forest__min_samples_split=8 \n",
      "[CV]  grad__max_features=285, forest__max_features=325, forest__criterion=gini, forest__max_depth=46, grad__max_depth=6, grad__min_samples_split=245, forest__min_samples_split=60, total=12.2min\n",
      "[CV] grad__max_features=364, forest__max_features=359, forest__criterion=gini, forest__max_depth=334, grad__max_depth=6, grad__min_samples_split=43, forest__min_samples_split=8 \n",
      "[CV]  grad__max_features=285, forest__max_features=325, forest__criterion=gini, forest__max_depth=46, grad__max_depth=6, grad__min_samples_split=245, forest__min_samples_split=60, total=12.2min\n",
      "[CV] grad__max_features=364, forest__max_features=359, forest__criterion=gini, forest__max_depth=334, grad__max_depth=6, grad__min_samples_split=43, forest__min_samples_split=8 \n",
      "[CV]  grad__max_features=224, forest__max_features=322, forest__criterion=gini, forest__max_depth=35, grad__max_depth=2, grad__min_samples_split=486, forest__min_samples_split=169, total= 2.5min\n",
      "[CV] grad__max_features=159, forest__max_features=208, forest__criterion=entropy, forest__max_depth=237, grad__max_depth=2, grad__min_samples_split=222, forest__min_samples_split=390 \n",
      "[CV]  grad__max_features=224, forest__max_features=322, forest__criterion=gini, forest__max_depth=35, grad__max_depth=2, grad__min_samples_split=486, forest__min_samples_split=169, total= 2.5min\n",
      "[CV] grad__max_features=159, forest__max_features=208, forest__criterion=entropy, forest__max_depth=237, grad__max_depth=2, grad__min_samples_split=222, forest__min_samples_split=390 \n",
      "[CV]  grad__max_features=224, forest__max_features=322, forest__criterion=gini, forest__max_depth=35, grad__max_depth=2, grad__min_samples_split=486, forest__min_samples_split=169, total= 2.5min\n",
      "[CV] grad__max_features=159, forest__max_features=208, forest__criterion=entropy, forest__max_depth=237, grad__max_depth=2, grad__min_samples_split=222, forest__min_samples_split=390 \n",
      "[CV]  grad__max_features=224, forest__max_features=322, forest__criterion=gini, forest__max_depth=35, grad__max_depth=2, grad__min_samples_split=486, forest__min_samples_split=169, total= 2.5min\n",
      "[CV] grad__max_features=159, forest__max_features=208, forest__criterion=entropy, forest__max_depth=237, grad__max_depth=2, grad__min_samples_split=222, forest__min_samples_split=390 \n",
      "[CV]  grad__max_features=159, forest__max_features=208, forest__criterion=entropy, forest__max_depth=237, grad__max_depth=2, grad__min_samples_split=222, forest__min_samples_split=390, total= 1.4min\n",
      "[CV] grad__max_features=317, forest__max_features=272, forest__criterion=entropy, forest__max_depth=310, grad__max_depth=6, grad__min_samples_split=255, forest__min_samples_split=38 \n",
      "[CV]  grad__max_features=159, forest__max_features=208, forest__criterion=entropy, forest__max_depth=237, grad__max_depth=2, grad__min_samples_split=222, forest__min_samples_split=390, total= 1.4min\n",
      "[CV] grad__max_features=317, forest__max_features=272, forest__criterion=entropy, forest__max_depth=310, grad__max_depth=6, grad__min_samples_split=255, forest__min_samples_split=38 \n",
      "[CV]  grad__max_features=159, forest__max_features=208, forest__criterion=entropy, forest__max_depth=237, grad__max_depth=2, grad__min_samples_split=222, forest__min_samples_split=390, total= 1.5min\n",
      "[CV] grad__max_features=317, forest__max_features=272, forest__criterion=entropy, forest__max_depth=310, grad__max_depth=6, grad__min_samples_split=255, forest__min_samples_split=38 \n",
      "[CV]  grad__max_features=159, forest__max_features=208, forest__criterion=entropy, forest__max_depth=237, grad__max_depth=2, grad__min_samples_split=222, forest__min_samples_split=390, total= 1.5min\n",
      "[CV] grad__max_features=317, forest__max_features=272, forest__criterion=entropy, forest__max_depth=310, grad__max_depth=6, grad__min_samples_split=255, forest__min_samples_split=38 \n",
      "[CV]  grad__max_features=364, forest__max_features=359, forest__criterion=gini, forest__max_depth=334, grad__max_depth=6, grad__min_samples_split=43, forest__min_samples_split=8, total=10.0min\n",
      "[CV] grad__max_features=27, forest__max_features=138, forest__criterion=gini, forest__max_depth=98, grad__max_depth=6, grad__min_samples_split=456, forest__min_samples_split=349 \n",
      "[CV]  grad__max_features=317, forest__max_features=272, forest__criterion=entropy, forest__max_depth=310, grad__max_depth=6, grad__min_samples_split=255, forest__min_samples_split=38, total= 8.1min\n",
      "[CV]  grad__max_features=364, forest__max_features=359, forest__criterion=gini, forest__max_depth=334, grad__max_depth=6, grad__min_samples_split=43, forest__min_samples_split=8, total=10.0min\n",
      "[CV] grad__max_features=27, forest__max_features=138, forest__criterion=gini, forest__max_depth=98, grad__max_depth=6, grad__min_samples_split=456, forest__min_samples_split=349 \n",
      "[CV] grad__max_features=27, forest__max_features=138, forest__criterion=gini, forest__max_depth=98, grad__max_depth=6, grad__min_samples_split=456, forest__min_samples_split=349 \n",
      "[CV]  grad__max_features=364, forest__max_features=359, forest__criterion=gini, forest__max_depth=334, grad__max_depth=6, grad__min_samples_split=43, forest__min_samples_split=8, total= 9.9min\n",
      "[CV] grad__max_features=27, forest__max_features=138, forest__criterion=gini, forest__max_depth=98, grad__max_depth=6, grad__min_samples_split=456, forest__min_samples_split=349 \n",
      "[CV]  grad__max_features=317, forest__max_features=272, forest__criterion=entropy, forest__max_depth=310, grad__max_depth=6, grad__min_samples_split=255, forest__min_samples_split=38, total= 8.1min\n",
      "[CV] grad__max_features=49, forest__max_features=60, forest__criterion=gini, forest__max_depth=302, grad__max_depth=6, grad__min_samples_split=318, forest__min_samples_split=220 \n",
      "[CV]  grad__max_features=364, forest__max_features=359, forest__criterion=gini, forest__max_depth=334, grad__max_depth=6, grad__min_samples_split=43, forest__min_samples_split=8, total=10.0min\n",
      "[CV] grad__max_features=49, forest__max_features=60, forest__criterion=gini, forest__max_depth=302, grad__max_depth=6, grad__min_samples_split=318, forest__min_samples_split=220 \n"
     ]
    },
    {
     "name": "stderr",
     "output_type": "stream",
     "text": [
      "[Parallel(n_jobs=-1)]: Done 146 tasks      | elapsed: 106.1min\n"
     ]
    },
    {
     "name": "stdout",
     "output_type": "stream",
     "text": [
      "[CV]  grad__max_features=317, forest__max_features=272, forest__criterion=entropy, forest__max_depth=310, grad__max_depth=6, grad__min_samples_split=255, forest__min_samples_split=38, total= 8.1min\n",
      "[CV] grad__max_features=49, forest__max_features=60, forest__criterion=gini, forest__max_depth=302, grad__max_depth=6, grad__min_samples_split=318, forest__min_samples_split=220 \n",
      "[CV]  grad__max_features=317, forest__max_features=272, forest__criterion=entropy, forest__max_depth=310, grad__max_depth=6, grad__min_samples_split=255, forest__min_samples_split=38, total= 8.1min\n",
      "[CV] grad__max_features=49, forest__max_features=60, forest__criterion=gini, forest__max_depth=302, grad__max_depth=6, grad__min_samples_split=318, forest__min_samples_split=220 \n",
      "[CV]  grad__max_features=27, forest__max_features=138, forest__criterion=gini, forest__max_depth=98, grad__max_depth=6, grad__min_samples_split=456, forest__min_samples_split=349, total= 1.2min\n",
      "[CV] grad__max_features=216, forest__max_features=80, forest__criterion=entropy, forest__max_depth=272, grad__max_depth=5, grad__min_samples_split=495, forest__min_samples_split=499 \n",
      "[CV]  grad__max_features=27, forest__max_features=138, forest__criterion=gini, forest__max_depth=98, grad__max_depth=6, grad__min_samples_split=456, forest__min_samples_split=349, total= 1.2min\n",
      "[CV] grad__max_features=216, forest__max_features=80, forest__criterion=entropy, forest__max_depth=272, grad__max_depth=5, grad__min_samples_split=495, forest__min_samples_split=499 \n",
      "[CV]  grad__max_features=27, forest__max_features=138, forest__criterion=gini, forest__max_depth=98, grad__max_depth=6, grad__min_samples_split=456, forest__min_samples_split=349, total= 1.2min\n",
      "[CV] grad__max_features=216, forest__max_features=80, forest__criterion=entropy, forest__max_depth=272, grad__max_depth=5, grad__min_samples_split=495, forest__min_samples_split=499 \n",
      "[CV]  grad__max_features=27, forest__max_features=138, forest__criterion=gini, forest__max_depth=98, grad__max_depth=6, grad__min_samples_split=456, forest__min_samples_split=349, total= 1.3min\n",
      "[CV] grad__max_features=216, forest__max_features=80, forest__criterion=entropy, forest__max_depth=272, grad__max_depth=5, grad__min_samples_split=495, forest__min_samples_split=499 \n",
      "[CV]  grad__max_features=49, forest__max_features=60, forest__criterion=gini, forest__max_depth=302, grad__max_depth=6, grad__min_samples_split=318, forest__min_samples_split=220, total= 1.4min\n",
      "[CV] grad__max_features=236, forest__max_features=206, forest__criterion=gini, forest__max_depth=361, grad__max_depth=4, grad__min_samples_split=407, forest__min_samples_split=376 \n",
      "[CV]  grad__max_features=49, forest__max_features=60, forest__criterion=gini, forest__max_depth=302, grad__max_depth=6, grad__min_samples_split=318, forest__min_samples_split=220, total= 1.4min\n",
      "[CV] grad__max_features=236, forest__max_features=206, forest__criterion=gini, forest__max_depth=361, grad__max_depth=4, grad__min_samples_split=407, forest__min_samples_split=376 \n",
      "[CV]  grad__max_features=49, forest__max_features=60, forest__criterion=gini, forest__max_depth=302, grad__max_depth=6, grad__min_samples_split=318, forest__min_samples_split=220, total= 1.4min\n",
      "[CV] grad__max_features=236, forest__max_features=206, forest__criterion=gini, forest__max_depth=361, grad__max_depth=4, grad__min_samples_split=407, forest__min_samples_split=376 \n",
      "[CV]  grad__max_features=49, forest__max_features=60, forest__criterion=gini, forest__max_depth=302, grad__max_depth=6, grad__min_samples_split=318, forest__min_samples_split=220, total= 1.4min\n",
      "[CV] grad__max_features=236, forest__max_features=206, forest__criterion=gini, forest__max_depth=361, grad__max_depth=4, grad__min_samples_split=407, forest__min_samples_split=376 \n",
      "[CV]  grad__max_features=216, forest__max_features=80, forest__criterion=entropy, forest__max_depth=272, grad__max_depth=5, grad__min_samples_split=495, forest__min_samples_split=499, total= 3.9min\n",
      "[CV] grad__max_features=360, forest__max_features=267, forest__criterion=gini, forest__max_depth=205, grad__max_depth=7, grad__min_samples_split=165, forest__min_samples_split=262 \n",
      "[CV]  grad__max_features=216, forest__max_features=80, forest__criterion=entropy, forest__max_depth=272, grad__max_depth=5, grad__min_samples_split=495, forest__min_samples_split=499, total= 3.9min\n",
      "[CV] grad__max_features=360, forest__max_features=267, forest__criterion=gini, forest__max_depth=205, grad__max_depth=7, grad__min_samples_split=165, forest__min_samples_split=262 \n",
      "[CV]  grad__max_features=216, forest__max_features=80, forest__criterion=entropy, forest__max_depth=272, grad__max_depth=5, grad__min_samples_split=495, forest__min_samples_split=499, total= 4.0min\n",
      "[CV] grad__max_features=360, forest__max_features=267, forest__criterion=gini, forest__max_depth=205, grad__max_depth=7, grad__min_samples_split=165, forest__min_samples_split=262 \n",
      "[CV]  grad__max_features=216, forest__max_features=80, forest__criterion=entropy, forest__max_depth=272, grad__max_depth=5, grad__min_samples_split=495, forest__min_samples_split=499, total= 3.9min\n",
      "[CV] grad__max_features=360, forest__max_features=267, forest__criterion=gini, forest__max_depth=205, grad__max_depth=7, grad__min_samples_split=165, forest__min_samples_split=262 \n",
      "[CV]  grad__max_features=236, forest__max_features=206, forest__criterion=gini, forest__max_depth=361, grad__max_depth=4, grad__min_samples_split=407, forest__min_samples_split=376, total= 3.8min\n",
      "[CV] grad__max_features=201, forest__max_features=328, forest__criterion=gini, forest__max_depth=52, grad__max_depth=4, grad__min_samples_split=196, forest__min_samples_split=80 \n",
      "[CV]  grad__max_features=236, forest__max_features=206, forest__criterion=gini, forest__max_depth=361, grad__max_depth=4, grad__min_samples_split=407, forest__min_samples_split=376, total= 3.8min\n",
      "[CV] grad__max_features=201, forest__max_features=328, forest__criterion=gini, forest__max_depth=52, grad__max_depth=4, grad__min_samples_split=196, forest__min_samples_split=80 \n",
      "[CV]  grad__max_features=236, forest__max_features=206, forest__criterion=gini, forest__max_depth=361, grad__max_depth=4, grad__min_samples_split=407, forest__min_samples_split=376, total= 3.8min\n",
      "[CV] grad__max_features=201, forest__max_features=328, forest__criterion=gini, forest__max_depth=52, grad__max_depth=4, grad__min_samples_split=196, forest__min_samples_split=80 \n",
      "[CV]  grad__max_features=236, forest__max_features=206, forest__criterion=gini, forest__max_depth=361, grad__max_depth=4, grad__min_samples_split=407, forest__min_samples_split=376, total= 3.8min\n",
      "[CV] grad__max_features=201, forest__max_features=328, forest__criterion=gini, forest__max_depth=52, grad__max_depth=4, grad__min_samples_split=196, forest__min_samples_split=80 \n",
      "[CV]  grad__max_features=201, forest__max_features=328, forest__criterion=gini, forest__max_depth=52, grad__max_depth=4, grad__min_samples_split=196, forest__min_samples_split=80, total= 3.7min\n",
      "[CV] grad__max_features=314, forest__max_features=256, forest__criterion=gini, forest__max_depth=365, grad__max_depth=5, grad__min_samples_split=404, forest__min_samples_split=119 \n",
      "[CV]  grad__max_features=201, forest__max_features=328, forest__criterion=gini, forest__max_depth=52, grad__max_depth=4, grad__min_samples_split=196, forest__min_samples_split=80, total= 3.7min\n",
      "[CV] grad__max_features=314, forest__max_features=256, forest__criterion=gini, forest__max_depth=365, grad__max_depth=5, grad__min_samples_split=404, forest__min_samples_split=119 \n",
      "[CV]  grad__max_features=201, forest__max_features=328, forest__criterion=gini, forest__max_depth=52, grad__max_depth=4, grad__min_samples_split=196, forest__min_samples_split=80, total= 3.6min\n",
      "[CV] grad__max_features=314, forest__max_features=256, forest__criterion=gini, forest__max_depth=365, grad__max_depth=5, grad__min_samples_split=404, forest__min_samples_split=119 \n",
      "[CV]  grad__max_features=201, forest__max_features=328, forest__criterion=gini, forest__max_depth=52, grad__max_depth=4, grad__min_samples_split=196, forest__min_samples_split=80, total= 3.7min\n",
      "[CV] grad__max_features=314, forest__max_features=256, forest__criterion=gini, forest__max_depth=365, grad__max_depth=5, grad__min_samples_split=404, forest__min_samples_split=119 \n",
      "[CV]  grad__max_features=360, forest__max_features=267, forest__criterion=gini, forest__max_depth=205, grad__max_depth=7, grad__min_samples_split=165, forest__min_samples_split=262, total=10.2min\n",
      "[CV] grad__max_features=288, forest__max_features=359, forest__criterion=entropy, forest__max_depth=147, grad__max_depth=8, grad__min_samples_split=346, forest__min_samples_split=478 \n",
      "[CV]  grad__max_features=314, forest__max_features=256, forest__criterion=gini, forest__max_depth=365, grad__max_depth=5, grad__min_samples_split=404, forest__min_samples_split=119, total= 5.8min\n",
      "[CV] grad__max_features=288, forest__max_features=359, forest__criterion=entropy, forest__max_depth=147, grad__max_depth=8, grad__min_samples_split=346, forest__min_samples_split=478 \n",
      "[CV]  grad__max_features=314, forest__max_features=256, forest__criterion=gini, forest__max_depth=365, grad__max_depth=5, grad__min_samples_split=404, forest__min_samples_split=119, total= 5.8min\n",
      "[CV] grad__max_features=288, forest__max_features=359, forest__criterion=entropy, forest__max_depth=147, grad__max_depth=8, grad__min_samples_split=346, forest__min_samples_split=478 \n",
      "[CV]  grad__max_features=314, forest__max_features=256, forest__criterion=gini, forest__max_depth=365, grad__max_depth=5, grad__min_samples_split=404, forest__min_samples_split=119, total= 5.9min\n",
      "[CV] grad__max_features=288, forest__max_features=359, forest__criterion=entropy, forest__max_depth=147, grad__max_depth=8, grad__min_samples_split=346, forest__min_samples_split=478 \n",
      "[CV]  grad__max_features=314, forest__max_features=256, forest__criterion=gini, forest__max_depth=365, grad__max_depth=5, grad__min_samples_split=404, forest__min_samples_split=119, total= 5.9min\n",
      "[CV] grad__max_features=9, forest__max_features=109, forest__criterion=gini, forest__max_depth=125, grad__max_depth=4, grad__min_samples_split=83, forest__min_samples_split=68 \n",
      "[CV]  grad__max_features=360, forest__max_features=267, forest__criterion=gini, forest__max_depth=205, grad__max_depth=7, grad__min_samples_split=165, forest__min_samples_split=262, total=10.2min\n",
      "[CV] grad__max_features=9, forest__max_features=109, forest__criterion=gini, forest__max_depth=125, grad__max_depth=4, grad__min_samples_split=83, forest__min_samples_split=68 \n",
      "[CV]  grad__max_features=360, forest__max_features=267, forest__criterion=gini, forest__max_depth=205, grad__max_depth=7, grad__min_samples_split=165, forest__min_samples_split=262, total=10.4min\n",
      "[CV] grad__max_features=9, forest__max_features=109, forest__criterion=gini, forest__max_depth=125, grad__max_depth=4, grad__min_samples_split=83, forest__min_samples_split=68 \n",
      "[CV]  grad__max_features=360, forest__max_features=267, forest__criterion=gini, forest__max_depth=205, grad__max_depth=7, grad__min_samples_split=165, forest__min_samples_split=262, total=10.4min\n",
      "[CV] grad__max_features=9, forest__max_features=109, forest__criterion=gini, forest__max_depth=125, grad__max_depth=4, grad__min_samples_split=83, forest__min_samples_split=68 \n",
      "[CV]  grad__max_features=9, forest__max_features=109, forest__criterion=gini, forest__max_depth=125, grad__max_depth=4, grad__min_samples_split=83, forest__min_samples_split=68, total=  39.8s\n",
      "[CV] grad__max_features=3, forest__max_features=364, forest__criterion=entropy, forest__max_depth=259, grad__max_depth=6, grad__min_samples_split=226, forest__min_samples_split=415 \n",
      "[CV]  grad__max_features=9, forest__max_features=109, forest__criterion=gini, forest__max_depth=125, grad__max_depth=4, grad__min_samples_split=83, forest__min_samples_split=68, total=  40.4s\n",
      "[CV] grad__max_features=3, forest__max_features=364, forest__criterion=entropy, forest__max_depth=259, grad__max_depth=6, grad__min_samples_split=226, forest__min_samples_split=415 \n",
      "[CV]  grad__max_features=9, forest__max_features=109, forest__criterion=gini, forest__max_depth=125, grad__max_depth=4, grad__min_samples_split=83, forest__min_samples_split=68, total=  40.8s\n",
      "[CV] grad__max_features=3, forest__max_features=364, forest__criterion=entropy, forest__max_depth=259, grad__max_depth=6, grad__min_samples_split=226, forest__min_samples_split=415 \n",
      "[CV]  grad__max_features=9, forest__max_features=109, forest__criterion=gini, forest__max_depth=125, grad__max_depth=4, grad__min_samples_split=83, forest__min_samples_split=68, total=  40.2s\n",
      "[CV] grad__max_features=3, forest__max_features=364, forest__criterion=entropy, forest__max_depth=259, grad__max_depth=6, grad__min_samples_split=226, forest__min_samples_split=415 \n",
      "[CV]  grad__max_features=3, forest__max_features=364, forest__criterion=entropy, forest__max_depth=259, grad__max_depth=6, grad__min_samples_split=226, forest__min_samples_split=415, total= 1.4min\n",
      "[CV] grad__max_features=253, forest__max_features=56, forest__criterion=entropy, forest__max_depth=74, grad__max_depth=8, grad__min_samples_split=249, forest__min_samples_split=151 \n",
      "[CV]  grad__max_features=3, forest__max_features=364, forest__criterion=entropy, forest__max_depth=259, grad__max_depth=6, grad__min_samples_split=226, forest__min_samples_split=415, total= 1.3min\n",
      "[CV] grad__max_features=253, forest__max_features=56, forest__criterion=entropy, forest__max_depth=74, grad__max_depth=8, grad__min_samples_split=249, forest__min_samples_split=151 \n",
      "[CV]  grad__max_features=3, forest__max_features=364, forest__criterion=entropy, forest__max_depth=259, grad__max_depth=6, grad__min_samples_split=226, forest__min_samples_split=415, total= 1.4min\n",
      "[CV] grad__max_features=253, forest__max_features=56, forest__criterion=entropy, forest__max_depth=74, grad__max_depth=8, grad__min_samples_split=249, forest__min_samples_split=151 \n",
      "[CV]  grad__max_features=3, forest__max_features=364, forest__criterion=entropy, forest__max_depth=259, grad__max_depth=6, grad__min_samples_split=226, forest__min_samples_split=415, total= 1.4min\n",
      "[CV] grad__max_features=253, forest__max_features=56, forest__criterion=entropy, forest__max_depth=74, grad__max_depth=8, grad__min_samples_split=249, forest__min_samples_split=151 \n",
      "[CV]  grad__max_features=288, forest__max_features=359, forest__criterion=entropy, forest__max_depth=147, grad__max_depth=8, grad__min_samples_split=346, forest__min_samples_split=478, total=10.1min\n",
      "[CV] grad__max_features=35, forest__max_features=78, forest__criterion=gini, forest__max_depth=191, grad__max_depth=4, grad__min_samples_split=238, forest__min_samples_split=499 \n",
      "[CV]  grad__max_features=288, forest__max_features=359, forest__criterion=entropy, forest__max_depth=147, grad__max_depth=8, grad__min_samples_split=346, forest__min_samples_split=478, total=10.1min\n",
      "[CV] grad__max_features=35, forest__max_features=78, forest__criterion=gini, forest__max_depth=191, grad__max_depth=4, grad__min_samples_split=238, forest__min_samples_split=499 \n",
      "[CV]  grad__max_features=288, forest__max_features=359, forest__criterion=entropy, forest__max_depth=147, grad__max_depth=8, grad__min_samples_split=346, forest__min_samples_split=478, total=10.3min\n",
      "[CV] grad__max_features=35, forest__max_features=78, forest__criterion=gini, forest__max_depth=191, grad__max_depth=4, grad__min_samples_split=238, forest__min_samples_split=499 \n",
      "[CV]  grad__max_features=288, forest__max_features=359, forest__criterion=entropy, forest__max_depth=147, grad__max_depth=8, grad__min_samples_split=346, forest__min_samples_split=478, total=10.3min\n",
      "[CV] grad__max_features=35, forest__max_features=78, forest__criterion=gini, forest__max_depth=191, grad__max_depth=4, grad__min_samples_split=238, forest__min_samples_split=499 \n",
      "[CV]  grad__max_features=253, forest__max_features=56, forest__criterion=entropy, forest__max_depth=74, grad__max_depth=8, grad__min_samples_split=249, forest__min_samples_split=151, total= 8.3min\n",
      "[CV] grad__max_features=84, forest__max_features=272, forest__criterion=gini, forest__max_depth=272, grad__max_depth=8, grad__min_samples_split=425, forest__min_samples_split=17 \n",
      "[CV]  grad__max_features=35, forest__max_features=78, forest__criterion=gini, forest__max_depth=191, grad__max_depth=4, grad__min_samples_split=238, forest__min_samples_split=499, total=  47.4s\n",
      "[CV] grad__max_features=84, forest__max_features=272, forest__criterion=gini, forest__max_depth=272, grad__max_depth=8, grad__min_samples_split=425, forest__min_samples_split=17 \n",
      "[CV]  grad__max_features=35, forest__max_features=78, forest__criterion=gini, forest__max_depth=191, grad__max_depth=4, grad__min_samples_split=238, forest__min_samples_split=499, total=  46.8s\n",
      "[CV] grad__max_features=84, forest__max_features=272, forest__criterion=gini, forest__max_depth=272, grad__max_depth=8, grad__min_samples_split=425, forest__min_samples_split=17 \n",
      "[CV]  grad__max_features=253, forest__max_features=56, forest__criterion=entropy, forest__max_depth=74, grad__max_depth=8, grad__min_samples_split=249, forest__min_samples_split=151, total= 8.5min\n",
      "[CV] grad__max_features=84, forest__max_features=272, forest__criterion=gini, forest__max_depth=272, grad__max_depth=8, grad__min_samples_split=425, forest__min_samples_split=17 \n",
      "[CV]  grad__max_features=253, forest__max_features=56, forest__criterion=entropy, forest__max_depth=74, grad__max_depth=8, grad__min_samples_split=249, forest__min_samples_split=151, total= 8.4min\n",
      "[CV]  grad__max_features=253, forest__max_features=56, forest__criterion=entropy, forest__max_depth=74, grad__max_depth=8, grad__min_samples_split=249, forest__min_samples_split=151, total= 8.5min\n",
      "[CV]  grad__max_features=35, forest__max_features=78, forest__criterion=gini, forest__max_depth=191, grad__max_depth=4, grad__min_samples_split=238, forest__min_samples_split=499, total=  47.6s\n",
      "[CV]  grad__max_features=35, forest__max_features=78, forest__criterion=gini, forest__max_depth=191, grad__max_depth=4, grad__min_samples_split=238, forest__min_samples_split=499, total=  44.5s\n",
      "[CV]  grad__max_features=84, forest__max_features=272, forest__criterion=gini, forest__max_depth=272, grad__max_depth=8, grad__min_samples_split=425, forest__min_samples_split=17, total= 2.4min\n",
      "[CV]  grad__max_features=84, forest__max_features=272, forest__criterion=gini, forest__max_depth=272, grad__max_depth=8, grad__min_samples_split=425, forest__min_samples_split=17, total= 2.4min\n",
      "[CV]  grad__max_features=84, forest__max_features=272, forest__criterion=gini, forest__max_depth=272, grad__max_depth=8, grad__min_samples_split=425, forest__min_samples_split=17, total= 2.4min\n",
      "[CV]  grad__max_features=84, forest__max_features=272, forest__criterion=gini, forest__max_depth=272, grad__max_depth=8, grad__min_samples_split=425, forest__min_samples_split=17, total= 2.4min\n"
     ]
    },
    {
     "name": "stderr",
     "output_type": "stream",
     "text": [
      "[Parallel(n_jobs=-1)]: Done 200 out of 200 | elapsed: 134.2min finished\n"
     ]
    },
    {
     "name": "stdout",
     "output_type": "stream",
     "text": [
      "{'grad__max_features': 128, 'forest__max_features': 132, 'forest__criterion': 'gini', 'forest__max_depth': 205, 'grad__max_depth': 9, 'grad__min_samples_split': 34, 'forest__min_samples_split': 243}\n"
     ]
    }
   ],
   "source": [
    "eclf_grid = VotingClassifier(estimators=[('forest', forest), ('grad', grad)], voting='soft')\n",
    "\n",
    "params = {\"forest__max_depth\": sp_randint(1, 366),\n",
    "              \"forest__max_features\": sp_randint(1, 366),\n",
    "              \"forest__min_samples_split\": sp_randint(1, 500),\n",
    "              \"forest__criterion\": [\"gini\", \"entropy\"],\n",
    "              \"grad__max_depth\": sp_randint(2, 10),\n",
    "              \"grad__min_samples_split\": sp_randint(1, 500),\n",
    "              \"grad__max_features\": sp_randint(1, 366)\n",
    "         }\n",
    "\n",
    "grid_result = RandomizedSearchCV(eclf_grid, n_iter=50, cv=4, param_distributions=params, verbose=2, n_jobs=-1)\n",
    "\n",
    "grid_result.fit(X, y)"
   ]
  },
  {
   "cell_type": "code",
   "execution_count": 107,
   "metadata": {
    "collapsed": false
   },
   "outputs": [
    {
     "data": {
      "text/plain": [
       "{'forest__criterion': 'gini',\n",
       " 'forest__max_depth': 205,\n",
       " 'forest__max_features': 132,\n",
       " 'forest__min_samples_split': 243,\n",
       " 'grad__max_depth': 9,\n",
       " 'grad__max_features': 128,\n",
       " 'grad__min_samples_split': 34}"
      ]
     },
     "execution_count": 107,
     "metadata": {},
     "output_type": "execute_result"
    }
   ],
   "source": [
    "grid_result.best_params_"
   ]
  },
  {
   "cell_type": "code",
   "execution_count": 106,
   "metadata": {
    "collapsed": false
   },
   "outputs": [
    {
     "data": {
      "text/plain": [
       "0.78265575950639432"
      ]
     },
     "execution_count": 106,
     "metadata": {},
     "output_type": "execute_result"
    }
   ],
   "source": [
    "grid_result.best_score_"
   ]
  },
  {
   "cell_type": "code",
   "execution_count": 135,
   "metadata": {
    "collapsed": true
   },
   "outputs": [],
   "source": [
    "forest_final = RandomForestClassifier(n_jobs=-1, n_estimators=150, criterion='gini', max_depth=205, max_features=132, min_samples_split=243,  verbose=1)\n",
    "grad_final = GradientBoostingClassifier(n_estimators=300, max_depth=9, max_features=128, min_samples_split=34,  verbose=1)\n",
    "ada = AdaBoostClassifier(n_estimators=250)"
   ]
  },
  {
   "cell_type": "code",
   "execution_count": 136,
   "metadata": {
    "collapsed": false
   },
   "outputs": [
    {
     "name": "stdout",
     "output_type": "stream",
     "text": [
      "      Iter       Train Loss   Remaining Time \n",
      "         1           1.0939           83.61m\n"
     ]
    },
    {
     "name": "stderr",
     "output_type": "stream",
     "text": [
      "[Parallel(n_jobs=-1)]: Done  34 tasks      | elapsed:   21.9s\n"
     ]
    },
    {
     "name": "stdout",
     "output_type": "stream",
     "text": [
      "         2           1.0599           80.70m\n",
      "         3           1.0309           79.04m\n",
      "         4           1.0062           78.00m\n",
      "         5           0.9847           74.78m\n"
     ]
    },
    {
     "name": "stderr",
     "output_type": "stream",
     "text": [
      "[Parallel(n_jobs=-1)]: Done 150 out of 150 | elapsed:  1.4min finished\n"
     ]
    },
    {
     "name": "stdout",
     "output_type": "stream",
     "text": [
      "         6           0.9655           67.10m\n",
      "         7           0.9477           60.57m\n",
      "         8           0.9325           55.52m\n",
      "         9           0.9193           51.98m\n",
      "        10           0.9070           49.06m\n",
      "        20           0.8221           33.43m\n",
      "        30           0.7758           27.08m\n",
      "        40           0.7392           22.96m\n",
      "        50           0.7118           19.78m\n",
      "        60           0.6885           17.49m\n",
      "        70           0.6735           15.43m\n",
      "        80           0.6610           13.75m\n",
      "        90           0.6493           12.38m\n",
      "       100           0.6394           11.24m\n",
      "       200           0.5483            4.26m\n",
      "       300           0.4711            0.00s\n"
     ]
    },
    {
     "data": {
      "text/plain": [
       "VotingClassifier(estimators=[('forest', RandomForestClassifier(bootstrap=True, class_weight=None, criterion='gini',\n",
       "            max_depth=205, max_features=132, max_leaf_nodes=None,\n",
       "            min_impurity_split=1e-07, min_samples_leaf=1,\n",
       "            min_samples_split=243, min_weight_fraction_leaf=0.0,\n",
       "            ...='SAMME.R', base_estimator=None,\n",
       "          learning_rate=1.0, n_estimators=250, random_state=None))],\n",
       "         n_jobs=-1, voting='soft', weights=None)"
      ]
     },
     "execution_count": 136,
     "metadata": {},
     "output_type": "execute_result"
    }
   ],
   "source": [
    "X_train, X_test, y_train, y_test = train_test_split(X, y, test_size=0.3, random_state=0)\n",
    "eclf_final_test = VotingClassifier(estimators=[('forest', forest_final), ('grad', grad_final), ('ada', ada)], voting='soft', n_jobs=-1)\n",
    "eclf_final_test.fit(X_train, y_train)"
   ]
  },
  {
   "cell_type": "code",
   "execution_count": 137,
   "metadata": {
    "collapsed": false
   },
   "outputs": [
    {
     "name": "stderr",
     "output_type": "stream",
     "text": [
      "[Parallel(n_jobs=8)]: Done  34 tasks      | elapsed:    0.1s\n",
      "[Parallel(n_jobs=8)]: Done 150 out of 150 | elapsed:    0.4s finished\n"
     ]
    },
    {
     "data": {
      "text/plain": [
       "0.78367094479666"
      ]
     },
     "execution_count": 137,
     "metadata": {},
     "output_type": "execute_result"
    }
   ],
   "source": [
    "eclf_final_test.score(X_test, y_test)"
   ]
  },
  {
   "cell_type": "code",
   "execution_count": 138,
   "metadata": {
    "collapsed": false
   },
   "outputs": [
    {
     "name": "stdout",
     "output_type": "stream",
     "text": [
      "      Iter       Train Loss   Remaining Time \n",
      "         1           1.0952           80.49m\n"
     ]
    },
    {
     "name": "stderr",
     "output_type": "stream",
     "text": [
      "[Parallel(n_jobs=-1)]: Done  34 tasks      | elapsed:   23.1s\n"
     ]
    },
    {
     "name": "stdout",
     "output_type": "stream",
     "text": [
      "         2           1.0617           80.56m\n",
      "         3           1.0354           76.08m\n",
      "         4           1.0115           74.90m\n",
      "         5           0.9909           74.50m\n"
     ]
    },
    {
     "name": "stderr",
     "output_type": "stream",
     "text": [
      "[Parallel(n_jobs=-1)]: Done 150 out of 150 | elapsed:  1.4min finished\n"
     ]
    },
    {
     "name": "stdout",
     "output_type": "stream",
     "text": [
      "         6           0.9736           69.11m\n",
      "         7           0.9568           63.10m\n",
      "         8           0.9429           58.24m\n",
      "         9           0.9298           54.72m\n",
      "        10           0.9187           51.49m\n",
      "        20           0.8455           35.85m\n",
      "        30           0.8037           28.37m\n",
      "        40           0.7744           23.85m\n",
      "        50           0.7527           20.58m\n",
      "        60           0.7352           18.01m\n",
      "        70           0.7217           15.97m\n",
      "        80           0.7071           14.36m\n",
      "        90           0.6971           12.89m\n",
      "       100           0.6872           11.64m\n",
      "       200           0.6144            4.28m\n",
      "       300           0.5430            0.00s\n"
     ]
    },
    {
     "data": {
      "text/plain": [
       "VotingClassifier(estimators=[('forest', RandomForestClassifier(bootstrap=True, class_weight=None, criterion='gini',\n",
       "            max_depth=205, max_features=132, max_leaf_nodes=None,\n",
       "            min_impurity_split=1e-07, min_samples_leaf=1,\n",
       "            min_samples_split=243, min_weight_fraction_leaf=0.0,\n",
       "            ...='SAMME.R', base_estimator=None,\n",
       "          learning_rate=1.0, n_estimators=250, random_state=None))],\n",
       "         n_jobs=-1, voting='soft', weights=None)"
      ]
     },
     "execution_count": 138,
     "metadata": {},
     "output_type": "execute_result"
    }
   ],
   "source": [
    "eclf_final = VotingClassifier(estimators=[('forest', forest_final), ('grad', grad_final), ('ada', ada)], voting='soft', n_jobs=-1)\n",
    "eclf_final.fit(X, y)"
   ]
  },
  {
   "cell_type": "code",
   "execution_count": 139,
   "metadata": {
    "collapsed": false
   },
   "outputs": [
    {
     "data": {
      "text/plain": [
       "['final.sav']"
      ]
     },
     "execution_count": 139,
     "metadata": {},
     "output_type": "execute_result"
    }
   ],
   "source": [
    "filename = 'final.sav'\n",
    "joblib.dump(eclf_final, filename)"
   ]
  },
  {
   "cell_type": "code",
   "execution_count": 143,
   "metadata": {
    "collapsed": false
   },
   "outputs": [
    {
     "name": "stderr",
     "output_type": "stream",
     "text": [
      "[Parallel(n_jobs=8)]: Done  34 tasks      | elapsed:    0.1s\n",
      "[Parallel(n_jobs=8)]: Done 150 out of 150 | elapsed:    0.3s finished\n"
     ]
    }
   ],
   "source": [
    "import pandas as pd\n",
    "y_pred = eclf_final.predict(X_test_input)\n",
    "predictions = pd.DataFrame(X_test.ix[:,0])\n",
    "predictions['PES1'] = pd.Series(y_pred)\n",
    "predictions.to_csv(path_or_buf='output.txt',index=False)"
   ]
  },
  {
   "cell_type": "code",
   "execution_count": null,
   "metadata": {
    "collapsed": true
   },
   "outputs": [],
   "source": []
  }
 ],
 "metadata": {
  "kernelspec": {
   "display_name": "Python 2",
   "language": "python",
   "name": "python2"
  },
  "language_info": {
   "codemirror_mode": {
    "name": "ipython",
    "version": 2
   },
   "file_extension": ".py",
   "mimetype": "text/x-python",
   "name": "python",
   "nbconvert_exporter": "python",
   "pygments_lexer": "ipython2",
   "version": "2.7.13"
  }
 },
 "nbformat": 4,
 "nbformat_minor": 2
}
