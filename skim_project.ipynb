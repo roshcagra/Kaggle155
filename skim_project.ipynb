{
 "cells": [
  {
   "cell_type": "code",
   "execution_count": 7,
   "metadata": {
    "collapsed": false
   },
   "outputs": [],
   "source": [
    "# Import packages\n",
    "from __future__ import division, print_function # Imports from __future__ since we're running Python 2\n",
    "import os\n",
    "import numpy as np \n",
    "import pandas as pd\n",
    "import matplotlib\n",
    "import matplotlib.pyplot as plt\n",
    "from sklearn.svm import SVC\n",
    "from sklearn.model_selection import train_test_split\n",
    "from sklearn.model_selection import cross_val_score\n",
    "from sklearn.tree import DecisionTreeClassifier\n",
    "from sklearn.metrics import zero_one_loss\n",
    "%matplotlib inline"
   ]
  },
  {
   "cell_type": "code",
   "execution_count": 2,
   "metadata": {
    "collapsed": false
   },
   "outputs": [],
   "source": [
    "# read train data set \n",
    "f = os.path.join(os.getcwd(), 'train_2008.csv')\n",
    "data = pd.read_csv(f)\n",
    "y = data['PES1']\n",
    "X = data.drop('PES1', 1)\n",
    "X_train, X_test, y_train, y_test = train_test_split(X, y, test_size=0.3, random_state=0)"
   ]
  },
  {
   "cell_type": "code",
   "execution_count": 8,
   "metadata": {
    "collapsed": false
   },
   "outputs": [],
   "source": [
    "# function that outputs csv with test predictions. \n",
    "# Input: model (clf.fit) \n",
    "def output_predictions(model):\n",
    "    f = os.path.join(os.getcwd(), 'test_2008.csv')\n",
    "    data = pd.read_csv(f)\n",
    "    y_pred = model.predict(data)\n",
    "\n",
    "    df = pd.DataFrame({'id': range(0,len(y_pred)), 'PES1': y_pred})\n",
    "    df = df[['id', 'PES1']]\n",
    "    df.to_csv('output.csv', index=False)"
   ]
  },
  {
   "cell_type": "code",
   "execution_count": null,
   "metadata": {
    "collapsed": false
   },
   "outputs": [],
   "source": [
    "# Decision tree ~ 75% accuracy \n",
    "clf = DecisionTreeClassifier(random_state=0, max_depth=10)\n",
    "y_pred = (clf.fit(X_train, y_train)).predict(X_test)\n",
    "print(np.mean(cross_val_score(clf, X, y, cv=10)))\n",
    "print(1 - zero_one_loss(y_test, y_pred))"
   ]
  },
  {
   "cell_type": "code",
   "execution_count": 80,
   "metadata": {
    "collapsed": false
   },
   "outputs": [
    {
     "name": "stdout",
     "output_type": "stream",
     "text": [
      "0.754294524266\n"
     ]
    }
   ],
   "source": [
    "# SVM - too slow right now though\n",
    "clf = SVC(kernel='linear', C=1).fit(X_train, y_train)\n",
    "scores = cross_val_score(clf, iris.data, iris.target, cv=5)\n",
    "print(\"Accuracy: %0.2f (+/- %0.2f)\" % (scores.mean(), scores.std() * 2))"
   ]
  },
  {
   "cell_type": "code",
   "execution_count": null,
   "metadata": {
    "collapsed": true
   },
   "outputs": [],
   "source": []
  }
 ],
 "metadata": {
  "kernelspec": {
   "display_name": "Python 2",
   "language": "python",
   "name": "python2"
  },
  "language_info": {
   "codemirror_mode": {
    "name": "ipython",
    "version": 2
   },
   "file_extension": ".py",
   "mimetype": "text/x-python",
   "name": "python",
   "nbconvert_exporter": "python",
   "pygments_lexer": "ipython2",
   "version": "2.7.10"
  }
 },
 "nbformat": 4,
 "nbformat_minor": 2
}
